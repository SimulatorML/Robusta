{
 "cells": [
  {
   "cell_type": "markdown",
   "metadata": {
    "heading_collapsed": true
   },
   "source": [
    "# Import"
   ]
  },
  {
   "cell_type": "code",
   "execution_count": 1,
   "metadata": {
    "hidden": true
   },
   "outputs": [
    {
     "name": "stderr",
     "output_type": "stream",
     "text": [
      "Using TensorFlow backend.\n"
     ]
    }
   ],
   "source": [
    "# Basic\n",
    "import pandas as pd\n",
    "import numpy as np\n",
    "import warnings\n",
    "\n",
    "warnings.simplefilter('ignore')\n",
    "\n",
    "# ML Toolkit\n",
    "from robusta.selector import *\n",
    "from robusta.crossval import *\n",
    "from robusta.pipeline import *\n",
    "from robusta.preprocessing import *\n",
    "\n",
    "from sklearn.model_selection import train_test_split\n",
    "from sklearn.datasets import make_regression\n",
    "from sklearn.metrics import *\n",
    "\n",
    "# Model\n",
    "from sklearn.linear_model import Ridge"
   ]
  },
  {
   "cell_type": "markdown",
   "metadata": {
    "heading_collapsed": true
   },
   "source": [
    "# Data"
   ]
  },
  {
   "cell_type": "code",
   "execution_count": 2,
   "metadata": {
    "hidden": true
   },
   "outputs": [],
   "source": [
    "from sklearn.datasets import make_regression\n",
    "from sklearn.model_selection import train_test_split\n",
    "\n",
    "X, y = make_regression(n_samples=200, n_features=50, n_informative=5, \n",
    "                       random_state=666)\n",
    "\n",
    "X = pd.DataFrame(X)\n",
    "y = pd.Series(y)\n",
    "\n",
    "X.rename(columns=lambda x: 'x{}'.format(x), inplace=True)\n",
    "\n",
    "X_train, X_test, y_train, y_test = train_test_split(X, y, test_size=0.2, random_state=42)"
   ]
  },
  {
   "cell_type": "code",
   "execution_count": 3,
   "metadata": {
    "hidden": true
   },
   "outputs": [
    {
     "data": {
      "text/plain": [
       "0      -75.242067\n",
       "1       24.025248\n",
       "2     -147.517904\n",
       "3      -37.842019\n",
       "4      -14.627993\n",
       "          ...    \n",
       "195     35.853590\n",
       "196     22.774910\n",
       "197   -126.268509\n",
       "198    130.487629\n",
       "199     15.891230\n",
       "Length: 200, dtype: float64"
      ]
     },
     "execution_count": 3,
     "metadata": {},
     "output_type": "execute_result"
    }
   ],
   "source": [
    "y"
   ]
  },
  {
   "cell_type": "markdown",
   "metadata": {
    "heading_collapsed": true
   },
   "source": [
    "# Task & Model"
   ]
  },
  {
   "cell_type": "code",
   "execution_count": 4,
   "metadata": {
    "hidden": true
   },
   "outputs": [],
   "source": [
    "get_score = lambda y_true, y_pred: -mean_squared_error(y_true, y_pred)\n",
    "scoring = 'neg_mean_squared_error'\n",
    "\n",
    "cv = 5\n",
    "\n",
    "model = Ridge()"
   ]
  },
  {
   "cell_type": "markdown",
   "metadata": {
    "heading_collapsed": true
   },
   "source": [
    "# Baseline"
   ]
  },
  {
   "cell_type": "code",
   "execution_count": 5,
   "metadata": {
    "hidden": true
   },
   "outputs": [
    {
     "name": "stdout",
     "output_type": "stream",
     "text": [
      "[20:25:53]  Ridge\n",
      "\n",
      "[20:25:53]  FOLD  0:   -4.4332\n",
      "[20:25:53]  FOLD  1:   -13.3185\n",
      "[20:25:53]  FOLD  2:   -5.2113\n",
      "[20:25:53]  FOLD  3:   -19.5226\n",
      "[20:25:53]  FOLD  4:   -12.6811\n",
      "\n",
      "[20:25:53]  AVERAGE:   \u001b[33m-11.0333\u001b[0m ± 5.6118\n",
      "\n"
     ]
    },
    {
     "data": {
      "text/plain": [
       "-11.124871666693128"
      ]
     },
     "execution_count": 5,
     "metadata": {},
     "output_type": "execute_result"
    }
   ],
   "source": [
    "features = X_train.columns\n",
    "\n",
    "_, y_pred = crossval_predict(model, cv, X_train[features], y_train, X_new=X_test[features],\n",
    "                             scoring=scoring, verbose=2, n_jobs=None)\n",
    "\n",
    "get_score(y_test, y_pred)"
   ]
  },
  {
   "cell_type": "markdown",
   "metadata": {},
   "source": [
    "# Selector"
   ]
  },
  {
   "cell_type": "markdown",
   "metadata": {},
   "source": [
    "## RFE \n",
    "#### (Recursive Feature Elimination)"
   ]
  },
  {
   "cell_type": "code",
   "execution_count": 6,
   "metadata": {},
   "outputs": [
    {
     "name": "stdout",
     "output_type": "stream",
     "text": [
      "[20:25:53] ITER: 1/26      SUBSET: 50/50      SCORE: \u001b[33m-11.0333\u001b[0m ± \u001b[36m5.6118\u001b[0m      ETA: 2 sec\n",
      "[20:25:53] ITER: 2/26      SUBSET: 49/50      SCORE: \u001b[33m-10.9132\u001b[0m ± \u001b[36m5.6045\u001b[0m      ETA: 2 sec\n",
      "[20:25:53] ITER: 3/26      SUBSET: 48/50      SCORE: \u001b[33m-10.8331\u001b[0m ± 5.6296      ETA: 2 sec\n",
      "[20:25:53] ITER: 4/26      SUBSET: 47/50      SCORE: \u001b[33m-10.6639\u001b[0m ± 5.6079      ETA: 2 sec\n",
      "[20:25:54] ITER: 5/26      SUBSET: 46/50      SCORE: \u001b[33m-10.4105\u001b[0m ± \u001b[36m5.2825\u001b[0m      ETA: 2 sec\n",
      "[20:25:54] ITER: 6/26      SUBSET: 45/50      SCORE: \u001b[33m-10.2890\u001b[0m ± 5.2926      ETA: 2 sec\n",
      "[20:25:54] ITER: 7/26      SUBSET: 44/50      SCORE: \u001b[33m-10.1547\u001b[0m ± 5.3142      ETA: 2 sec\n",
      "[20:25:54] ITER: 8/26      SUBSET: 43/50      SCORE: \u001b[33m-9.9987\u001b[0m ± \u001b[36m5.1674\u001b[0m      ETA: 1 sec\n",
      "[20:25:54] ITER: 9/26      SUBSET: 42/50      SCORE: \u001b[33m-9.8979\u001b[0m ± 5.2327      ETA: 1 sec\n",
      "[20:25:54] ITER: 10/26      SUBSET: 41/50      SCORE: \u001b[33m-9.7868\u001b[0m ± 5.2371      ETA: 1 sec\n",
      "[20:25:54] ITER: 11/26      SUBSET: 40/50      SCORE: \u001b[33m-9.7188\u001b[0m ± 5.1924      ETA: 1 sec\n",
      "[20:25:54] ITER: 12/26      SUBSET: 39/50      SCORE: \u001b[33m-9.6912\u001b[0m ± 5.1754      ETA: 1 sec\n",
      "[20:25:55] ITER: 13/26      SUBSET: 38/50      SCORE: \u001b[33m-9.4134\u001b[0m ± \u001b[36m5.1267\u001b[0m      ETA: 1 sec\n",
      "[20:25:55] ITER: 14/26      SUBSET: 37/50      SCORE: \u001b[33m-8.4518\u001b[0m ± \u001b[36m3.7823\u001b[0m      ETA: 1 sec\n",
      "[20:25:55] ITER: 15/26      SUBSET: 36/50      SCORE: \u001b[33m-8.1837\u001b[0m ± \u001b[36m3.7128\u001b[0m      ETA: 1 sec\n",
      "[20:25:55] ITER: 16/26      SUBSET: 35/50      SCORE: \u001b[33m-8.0618\u001b[0m ± 3.8243      ETA: 1 sec\n",
      "[20:25:55] ITER: 17/26      SUBSET: 34/50      SCORE: \u001b[33m-7.7868\u001b[0m ± \u001b[36m3.5922\u001b[0m      ETA: 957 ms\n",
      "[20:25:55] ITER: 18/26      SUBSET: 33/50      SCORE: \u001b[33m-7.5734\u001b[0m ± \u001b[36m3.4715\u001b[0m      ETA: 849 ms\n",
      "[20:25:55] ITER: 19/26      SUBSET: 32/50      SCORE: \u001b[33m-7.3498\u001b[0m ± \u001b[36m3.3237\u001b[0m      ETA: 744 ms\n",
      "[20:25:55] ITER: 20/26      SUBSET: 31/50      SCORE: \u001b[33m-6.9897\u001b[0m ± \u001b[36m2.9532\u001b[0m      ETA: 638 ms\n",
      "[20:25:55] ITER: 21/26      SUBSET: 30/50      SCORE: \u001b[33m-6.5612\u001b[0m ± \u001b[36m2.5208\u001b[0m      ETA: 532 ms\n",
      "[20:25:56] ITER: 22/26      SUBSET: 29/50      SCORE: \u001b[33m-6.4148\u001b[0m ± \u001b[36m2.3804\u001b[0m      ETA: 426 ms\n",
      "[20:25:56] ITER: 23/26      SUBSET: 28/50      SCORE: \u001b[33m-6.0093\u001b[0m ± \u001b[36m2.1250\u001b[0m      ETA: 320 ms\n",
      "[20:25:56] ITER: 24/26      SUBSET: 27/50      SCORE: \u001b[33m-5.7697\u001b[0m ± \u001b[36m2.0153\u001b[0m      ETA: 213 ms\n",
      "[20:25:56] ITER: 25/26      SUBSET: 26/50      SCORE: \u001b[33m-5.5701\u001b[0m ± \u001b[36m1.8965\u001b[0m      ETA: 106 ms\n",
      "[20:25:56] ITER: 26/26      SUBSET: 25/50      SCORE: \u001b[33m-5.4389\u001b[0m ± 1.9929      ETA: 0 ms\n",
      "Iterations limit exceed!\n"
     ]
    },
    {
     "data": {
      "text/plain": [
       "RFE(cv=5,\n",
       "    estimator=Ridge(alpha=1.0, copy_X=True, fit_intercept=True, max_iter=None,\n",
       "                    normalize=False, random_state=None, solver='auto',\n",
       "                    tol=0.001),\n",
       "    min_features=0.5, n_digits=4, n_jobs=-1, scoring='neg_mean_squared_error',\n",
       "    step=1, use_best=True, verbose=1)"
      ]
     },
     "execution_count": 6,
     "metadata": {},
     "output_type": "execute_result"
    }
   ],
   "source": [
    "selector = RFE(model, cv, scoring, n_jobs=-1)\n",
    "selector.fit(X_train, y_train)"
   ]
  },
  {
   "cell_type": "code",
   "execution_count": 7,
   "metadata": {},
   "outputs": [
    {
     "name": "stdout",
     "output_type": "stream",
     "text": [
      "[20:25:56]  Ridge\n",
      "\n",
      "[20:25:56]  FOLD  0:   -3.1975\n",
      "[20:25:56]  FOLD  1:   -7.7803\n",
      "[20:25:56]  FOLD  2:   -3.0137\n",
      "[20:25:56]  FOLD  3:   -7.2204\n",
      "[20:25:56]  FOLD  4:   -5.9828\n",
      "\n",
      "[20:25:56]  AVERAGE:   \u001b[33m-5.4389\u001b[0m ± 1.9929\n",
      "\n"
     ]
    },
    {
     "data": {
      "text/plain": [
       "-8.485321431575544"
      ]
     },
     "execution_count": 7,
     "metadata": {},
     "output_type": "execute_result"
    }
   ],
   "source": [
    "subset = selector.get_subset()\n",
    "\n",
    "_, y_pred = crossval_predict(model, cv, X_train[subset], y_train, X_new=X_test[subset],\n",
    "                             scoring=scoring, method='predict_proba',\n",
    "                             verbose=2, n_jobs=None)\n",
    "\n",
    "get_score(y_test, y_pred)"
   ]
  },
  {
   "cell_type": "markdown",
   "metadata": {},
   "source": [
    "## RFE via Permutation Importance"
   ]
  },
  {
   "cell_type": "code",
   "execution_count": 8,
   "metadata": {},
   "outputs": [
    {
     "name": "stdout",
     "output_type": "stream",
     "text": [
      "[20:26:00] ITER: 1/20      SUBSET: 50/50      SCORE: \u001b[33m-11.0333\u001b[0m ± \u001b[36m5.6118\u001b[0m      ETA: 37 sec\n",
      "[20:26:02] ITER: 2/20      SUBSET: 45/50      SCORE: \u001b[33m-7.9381\u001b[0m ± \u001b[36m3.1770\u001b[0m      ETA: 36 sec\n",
      "[20:26:04] ITER: 3/20      SUBSET: 41/50      SCORE: \u001b[33m-7.1174\u001b[0m ± \u001b[36m2.7743\u001b[0m      ETA: 34 sec\n",
      "[20:26:06] ITER: 4/20      SUBSET: 37/50      SCORE: \u001b[33m-6.3699\u001b[0m ± \u001b[36m2.4176\u001b[0m      ETA: 32 sec\n",
      "[20:26:08] ITER: 5/20      SUBSET: 34/50      SCORE: \u001b[33m-6.0039\u001b[0m ± \u001b[36m2.4088\u001b[0m      ETA: 29 sec\n",
      "[20:26:10] ITER: 6/20      SUBSET: 31/50      SCORE: \u001b[33m-5.3048\u001b[0m ± \u001b[36m2.1016\u001b[0m      ETA: 26 sec\n",
      "[20:26:11] ITER: 7/20      SUBSET: 28/50      SCORE: \u001b[33m-4.6051\u001b[0m ± \u001b[36m1.2229\u001b[0m      ETA: 24 sec\n",
      "[20:26:13] ITER: 8/20      SUBSET: 26/50      SCORE: \u001b[33m-4.4978\u001b[0m ± 1.2613      ETA: 22 sec\n",
      "[20:26:15] ITER: 9/20      SUBSET: 24/50      SCORE: \u001b[33m-4.2243\u001b[0m ± 1.3387      ETA: 20 sec\n",
      "[20:26:16] ITER: 10/20      SUBSET: 22/50      SCORE: \u001b[33m-4.0772\u001b[0m ± \u001b[36m1.1612\u001b[0m      ETA: 18 sec\n",
      "[20:26:18] ITER: 11/20      SUBSET: 20/50      SCORE: \u001b[33m-3.8544\u001b[0m ± \u001b[36m1.1411\u001b[0m      ETA: 16 sec\n",
      "[20:26:19] ITER: 12/20      SUBSET: 18/50      SCORE: \u001b[33m-3.5278\u001b[0m ± \u001b[36m1.0937\u001b[0m      ETA: 13 sec\n",
      "[20:26:20] ITER: 13/20      SUBSET: 17/50      SCORE: \u001b[33m-3.4774\u001b[0m ± \u001b[36m0.9990\u001b[0m      ETA: 11 sec\n",
      "[20:26:21] ITER: 14/20      SUBSET: 16/50      SCORE: \u001b[33m-3.4018\u001b[0m ± \u001b[36m0.8887\u001b[0m      ETA: 9 sec\n",
      "[20:26:23] ITER: 15/20      SUBSET: 15/50      SCORE: \u001b[33m-3.3202\u001b[0m ± \u001b[36m0.8451\u001b[0m      ETA: 8 sec\n",
      "[20:26:24] ITER: 16/20      SUBSET: 14/50      SCORE: \u001b[33m-3.1944\u001b[0m ± 0.8791      ETA: 6 sec\n",
      "[20:26:25] ITER: 17/20      SUBSET: 13/50      SCORE: \u001b[33m-3.1564\u001b[0m ± \u001b[36m0.8417\u001b[0m      ETA: 4 sec\n",
      "[20:26:26] ITER: 18/20      SUBSET: 12/50      SCORE: \u001b[33m-3.0729\u001b[0m ± \u001b[36m0.7958\u001b[0m      ETA: 3 sec\n",
      "[20:26:28] ITER: 19/20      SUBSET: 11/50      SCORE: \u001b[33m-2.9509\u001b[0m ± \u001b[36m0.7636\u001b[0m      ETA: 1 sec\n",
      "[20:26:29] ITER: 20/20      SUBSET: 10/50      SCORE: \u001b[33m-2.7570\u001b[0m ± \u001b[36m0.6320\u001b[0m      ETA: 0 ms\n",
      "Iterations limit exceed!\n"
     ]
    },
    {
     "data": {
      "text/plain": [
       "PermutationRFE(cv=5,\n",
       "               estimator=Ridge(alpha=1.0, copy_X=True, fit_intercept=True,\n",
       "                               max_iter=None, normalize=False,\n",
       "                               random_state=None, solver='auto', tol=0.001),\n",
       "               min_features=10, n_digits=4, n_jobs=-1, n_repeats=5,\n",
       "               random_state=0, scoring='neg_mean_squared_error', step=0.1,\n",
       "               use_best=True, verbose=2)"
      ]
     },
     "execution_count": 8,
     "metadata": {},
     "output_type": "execute_result"
    }
   ],
   "source": [
    "selector = PermutationRFE(model, cv, scoring, min_features=10, step=0.1, \n",
    "                          verbose=2, n_jobs=-1)\n",
    "selector.fit(X_train, y_train)"
   ]
  },
  {
   "cell_type": "code",
   "execution_count": 10,
   "metadata": {},
   "outputs": [
    {
     "name": "stdout",
     "output_type": "stream",
     "text": [
      "[20:26:53]  Ridge\n",
      "\n",
      "[20:26:53]  FOLD  0:   -2.4788\n",
      "[20:26:53]  FOLD  1:   -2.7648\n",
      "[20:26:53]  FOLD  2:   -1.9524\n",
      "[20:26:53]  FOLD  3:   -3.8839\n",
      "[20:26:53]  FOLD  4:   -2.7053\n",
      "\n",
      "[20:26:54]  AVERAGE:   \u001b[33m-2.7570\u001b[0m ± 0.6320\n",
      "\n"
     ]
    },
    {
     "data": {
      "text/plain": [
       "-3.7339182989611386"
      ]
     },
     "execution_count": 10,
     "metadata": {},
     "output_type": "execute_result"
    }
   ],
   "source": [
    "subset = selector.get_subset()\n",
    "\n",
    "_, y_pred = crossval_predict(model, cv, X_train[subset], y_train, X_new=X_test[subset],\n",
    "                             scoring=scoring, method='predict_proba', verbose=2)\n",
    "\n",
    "get_score(y_test, y_pred)"
   ]
  }
 ],
 "metadata": {
  "kernelspec": {
   "display_name": "Python 3",
   "language": "python",
   "name": "python3"
  },
  "language_info": {
   "codemirror_mode": {
    "name": "ipython",
    "version": 3
   },
   "file_extension": ".py",
   "mimetype": "text/x-python",
   "name": "python",
   "nbconvert_exporter": "python",
   "pygments_lexer": "ipython3",
   "version": "3.6.8"
  }
 },
 "nbformat": 4,
 "nbformat_minor": 2
}
