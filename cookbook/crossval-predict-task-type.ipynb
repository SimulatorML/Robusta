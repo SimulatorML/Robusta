{
 "cells": [
  {
   "cell_type": "markdown",
   "metadata": {},
   "source": [
    "# Import"
   ]
  },
  {
   "cell_type": "code",
   "execution_count": 1,
   "metadata": {},
   "outputs": [],
   "source": [
    "# Basic\n",
    "import pandas as pd\n",
    "import numpy as np\n",
    "\n",
    "# ML Toolkit\n",
    "from robusta.crossval import *\n",
    "\n",
    "%load_ext memory_profiler"
   ]
  },
  {
   "cell_type": "markdown",
   "metadata": {},
   "source": [
    "# Binary Classification"
   ]
  },
  {
   "cell_type": "markdown",
   "metadata": {},
   "source": [
    "## Data"
   ]
  },
  {
   "cell_type": "code",
   "execution_count": 2,
   "metadata": {},
   "outputs": [
    {
     "data": {
      "text/html": [
       "<div>\n",
       "<style scoped>\n",
       "    .dataframe tbody tr th:only-of-type {\n",
       "        vertical-align: middle;\n",
       "    }\n",
       "\n",
       "    .dataframe tbody tr th {\n",
       "        vertical-align: top;\n",
       "    }\n",
       "\n",
       "    .dataframe thead th {\n",
       "        text-align: right;\n",
       "    }\n",
       "</style>\n",
       "<table border=\"1\" class=\"dataframe\">\n",
       "  <thead>\n",
       "    <tr style=\"text-align: right;\">\n",
       "      <th></th>\n",
       "      <th>RESOURCE</th>\n",
       "      <th>MGR_ID</th>\n",
       "      <th>ROLE_ROLLUP_1</th>\n",
       "      <th>ROLE_ROLLUP_2</th>\n",
       "      <th>ROLE_DEPTNAME</th>\n",
       "      <th>ROLE_TITLE</th>\n",
       "      <th>ROLE_FAMILY_DESC</th>\n",
       "      <th>ROLE_FAMILY</th>\n",
       "      <th>ROLE_CODE</th>\n",
       "    </tr>\n",
       "    <tr>\n",
       "      <th>id</th>\n",
       "      <th></th>\n",
       "      <th></th>\n",
       "      <th></th>\n",
       "      <th></th>\n",
       "      <th></th>\n",
       "      <th></th>\n",
       "      <th></th>\n",
       "      <th></th>\n",
       "      <th></th>\n",
       "    </tr>\n",
       "  </thead>\n",
       "  <tbody>\n",
       "    <tr>\n",
       "      <td>0</td>\n",
       "      <td>39353</td>\n",
       "      <td>85475</td>\n",
       "      <td>117961</td>\n",
       "      <td>118300</td>\n",
       "      <td>123472</td>\n",
       "      <td>117905</td>\n",
       "      <td>117906</td>\n",
       "      <td>290919</td>\n",
       "      <td>117908</td>\n",
       "    </tr>\n",
       "    <tr>\n",
       "      <td>1</td>\n",
       "      <td>17183</td>\n",
       "      <td>1540</td>\n",
       "      <td>117961</td>\n",
       "      <td>118343</td>\n",
       "      <td>123125</td>\n",
       "      <td>118536</td>\n",
       "      <td>118536</td>\n",
       "      <td>308574</td>\n",
       "      <td>118539</td>\n",
       "    </tr>\n",
       "    <tr>\n",
       "      <td>2</td>\n",
       "      <td>36724</td>\n",
       "      <td>14457</td>\n",
       "      <td>118219</td>\n",
       "      <td>118220</td>\n",
       "      <td>117884</td>\n",
       "      <td>117879</td>\n",
       "      <td>267952</td>\n",
       "      <td>19721</td>\n",
       "      <td>117880</td>\n",
       "    </tr>\n",
       "    <tr>\n",
       "      <td>3</td>\n",
       "      <td>36135</td>\n",
       "      <td>5396</td>\n",
       "      <td>117961</td>\n",
       "      <td>118343</td>\n",
       "      <td>119993</td>\n",
       "      <td>118321</td>\n",
       "      <td>240983</td>\n",
       "      <td>290919</td>\n",
       "      <td>118322</td>\n",
       "    </tr>\n",
       "    <tr>\n",
       "      <td>4</td>\n",
       "      <td>42680</td>\n",
       "      <td>5905</td>\n",
       "      <td>117929</td>\n",
       "      <td>117930</td>\n",
       "      <td>119569</td>\n",
       "      <td>119323</td>\n",
       "      <td>123932</td>\n",
       "      <td>19793</td>\n",
       "      <td>119325</td>\n",
       "    </tr>\n",
       "    <tr>\n",
       "      <td>...</td>\n",
       "      <td>...</td>\n",
       "      <td>...</td>\n",
       "      <td>...</td>\n",
       "      <td>...</td>\n",
       "      <td>...</td>\n",
       "      <td>...</td>\n",
       "      <td>...</td>\n",
       "      <td>...</td>\n",
       "      <td>...</td>\n",
       "    </tr>\n",
       "    <tr>\n",
       "      <td>32764</td>\n",
       "      <td>23497</td>\n",
       "      <td>16971</td>\n",
       "      <td>117961</td>\n",
       "      <td>118300</td>\n",
       "      <td>119993</td>\n",
       "      <td>118321</td>\n",
       "      <td>240983</td>\n",
       "      <td>290919</td>\n",
       "      <td>118322</td>\n",
       "    </tr>\n",
       "    <tr>\n",
       "      <td>32765</td>\n",
       "      <td>25139</td>\n",
       "      <td>311198</td>\n",
       "      <td>91261</td>\n",
       "      <td>118026</td>\n",
       "      <td>122392</td>\n",
       "      <td>121143</td>\n",
       "      <td>173805</td>\n",
       "      <td>249618</td>\n",
       "      <td>121145</td>\n",
       "    </tr>\n",
       "    <tr>\n",
       "      <td>32766</td>\n",
       "      <td>34924</td>\n",
       "      <td>28805</td>\n",
       "      <td>117961</td>\n",
       "      <td>118327</td>\n",
       "      <td>120299</td>\n",
       "      <td>124922</td>\n",
       "      <td>152038</td>\n",
       "      <td>118612</td>\n",
       "      <td>124924</td>\n",
       "    </tr>\n",
       "    <tr>\n",
       "      <td>32767</td>\n",
       "      <td>80574</td>\n",
       "      <td>55643</td>\n",
       "      <td>118256</td>\n",
       "      <td>118257</td>\n",
       "      <td>117945</td>\n",
       "      <td>280788</td>\n",
       "      <td>280788</td>\n",
       "      <td>292795</td>\n",
       "      <td>119082</td>\n",
       "    </tr>\n",
       "    <tr>\n",
       "      <td>32768</td>\n",
       "      <td>14354</td>\n",
       "      <td>59575</td>\n",
       "      <td>117916</td>\n",
       "      <td>118150</td>\n",
       "      <td>117920</td>\n",
       "      <td>118568</td>\n",
       "      <td>122142</td>\n",
       "      <td>19721</td>\n",
       "      <td>118570</td>\n",
       "    </tr>\n",
       "  </tbody>\n",
       "</table>\n",
       "<p>32769 rows × 9 columns</p>\n",
       "</div>"
      ],
      "text/plain": [
       "       RESOURCE  MGR_ID  ROLE_ROLLUP_1  ROLE_ROLLUP_2  ROLE_DEPTNAME  \\\n",
       "id                                                                     \n",
       "0         39353   85475         117961         118300         123472   \n",
       "1         17183    1540         117961         118343         123125   \n",
       "2         36724   14457         118219         118220         117884   \n",
       "3         36135    5396         117961         118343         119993   \n",
       "4         42680    5905         117929         117930         119569   \n",
       "...         ...     ...            ...            ...            ...   \n",
       "32764     23497   16971         117961         118300         119993   \n",
       "32765     25139  311198          91261         118026         122392   \n",
       "32766     34924   28805         117961         118327         120299   \n",
       "32767     80574   55643         118256         118257         117945   \n",
       "32768     14354   59575         117916         118150         117920   \n",
       "\n",
       "       ROLE_TITLE  ROLE_FAMILY_DESC  ROLE_FAMILY  ROLE_CODE  \n",
       "id                                                           \n",
       "0          117905            117906       290919     117908  \n",
       "1          118536            118536       308574     118539  \n",
       "2          117879            267952        19721     117880  \n",
       "3          118321            240983       290919     118322  \n",
       "4          119323            123932        19793     119325  \n",
       "...           ...               ...          ...        ...  \n",
       "32764      118321            240983       290919     118322  \n",
       "32765      121143            173805       249618     121145  \n",
       "32766      124922            152038       118612     124924  \n",
       "32767      280788            280788       292795     119082  \n",
       "32768      118568            122142        19721     118570  \n",
       "\n",
       "[32769 rows x 9 columns]"
      ]
     },
     "execution_count": 2,
     "metadata": {},
     "output_type": "execute_result"
    }
   ],
   "source": [
    "from catboost.datasets import amazon\n",
    "\n",
    "X_train, X_test = amazon()\n",
    "\n",
    "y_train = X_train['ACTION']\n",
    "X_train.drop(columns='ACTION', inplace=True)\n",
    "\n",
    "X_train.index.name = 'id'\n",
    "X_test.set_index('id', inplace=True)\n",
    "\n",
    "X_train"
   ]
  },
  {
   "cell_type": "markdown",
   "metadata": {},
   "source": [
    "## Task"
   ]
  },
  {
   "cell_type": "code",
   "execution_count": 3,
   "metadata": {},
   "outputs": [],
   "source": [
    "scoring = 'roc_auc'\n",
    "cv = 5"
   ]
  },
  {
   "cell_type": "markdown",
   "metadata": {},
   "source": [
    "## Model"
   ]
  },
  {
   "cell_type": "code",
   "execution_count": 4,
   "metadata": {},
   "outputs": [],
   "source": [
    "from lightgbm import LGBMClassifier\n",
    "\n",
    "model = LGBMClassifier()"
   ]
  },
  {
   "cell_type": "markdown",
   "metadata": {},
   "source": [
    "## Predict Probability"
   ]
  },
  {
   "cell_type": "markdown",
   "metadata": {},
   "source": [
    "### Averaging (used by default)"
   ]
  },
  {
   "cell_type": "code",
   "execution_count": 5,
   "metadata": {},
   "outputs": [
    {
     "name": "stdout",
     "output_type": "stream",
     "text": [
      "[11:13:00]  LGBMClassifier\n",
      "\n",
      "[11:13:02]  FOLD  0:   0.8288\n",
      "[11:13:02]  FOLD  1:   0.8555\n",
      "[11:13:02]  FOLD  2:   0.8260\n",
      "[11:13:02]  FOLD  3:   0.8286\n",
      "[11:13:02]  FOLD  4:   0.8533\n",
      "\n",
      "[11:13:03]  AVERAGE:   \u001b[33m0.8384\u001b[0m ± 0.0131\n",
      "\n"
     ]
    },
    {
     "data": {
      "text/plain": [
       "id\n",
       "1        0.916153\n",
       "2        0.971869\n",
       "3        0.971752\n",
       "4        0.968436\n",
       "5        0.986602\n",
       "           ...   \n",
       "58917    0.971509\n",
       "58918    0.923720\n",
       "58919    0.942652\n",
       "58920    0.955126\n",
       "58921    0.986097\n",
       "Name: ACTION, Length: 58921, dtype: float64"
      ]
     },
     "execution_count": 5,
     "metadata": {},
     "output_type": "execute_result"
    }
   ],
   "source": [
    "_, y_pred = crossval_predict(model, cv, X_train, y_train, X_new=X_test,\n",
    "                             scoring=scoring, method='predict_proba',\n",
    "                             verbose=2, n_jobs=-1)\n",
    "\n",
    "y_pred"
   ]
  },
  {
   "cell_type": "code",
   "execution_count": 6,
   "metadata": {},
   "outputs": [
    {
     "name": "stdout",
     "output_type": "stream",
     "text": [
      "[11:13:03]  LGBMClassifier\n",
      "\n",
      "[11:13:05]  FOLD  0:   0.8288\n",
      "[11:13:05]  FOLD  1:   0.8555\n",
      "[11:13:05]  FOLD  2:   0.8260\n",
      "[11:13:05]  FOLD  3:   0.8286\n",
      "[11:13:05]  FOLD  4:   0.8533\n",
      "\n",
      "[11:13:05]  AVERAGE:   \u001b[33m0.8384\u001b[0m ± 0.0131\n",
      "\n"
     ]
    },
    {
     "data": {
      "text/plain": [
       "id\n",
       "1        0.916153\n",
       "2        0.971869\n",
       "3        0.971752\n",
       "4        0.968436\n",
       "5        0.986602\n",
       "           ...   \n",
       "58917    0.971509\n",
       "58918    0.923720\n",
       "58919    0.942652\n",
       "58920    0.955126\n",
       "58921    0.986097\n",
       "Name: ACTION, Length: 58921, dtype: float64"
      ]
     },
     "execution_count": 6,
     "metadata": {},
     "output_type": "execute_result"
    }
   ],
   "source": [
    "_, y_pred = crossval_predict(model, cv, X_train, y_train, X_new=X_test,\n",
    "                             scoring=scoring, method='predict_proba',\n",
    "                             avg_type='auto', verbose=2, n_jobs=-1)\n",
    "\n",
    "y_pred # the same"
   ]
  },
  {
   "cell_type": "code",
   "execution_count": 7,
   "metadata": {},
   "outputs": [
    {
     "name": "stdout",
     "output_type": "stream",
     "text": [
      "[11:13:05]  LGBMClassifier\n",
      "\n",
      "[11:13:08]  FOLD  0:   0.8288\n",
      "[11:13:08]  FOLD  1:   0.8555\n",
      "[11:13:08]  FOLD  2:   0.8260\n",
      "[11:13:08]  FOLD  3:   0.8286\n",
      "[11:13:08]  FOLD  4:   0.8533\n",
      "\n",
      "[11:13:08]  AVERAGE:   \u001b[33m0.8384\u001b[0m ± 0.0131\n",
      "\n"
     ]
    },
    {
     "data": {
      "text/plain": [
       "id\n",
       "1        0.916153\n",
       "2        0.971869\n",
       "3        0.971752\n",
       "4        0.968436\n",
       "5        0.986602\n",
       "           ...   \n",
       "58917    0.971509\n",
       "58918    0.923720\n",
       "58919    0.942652\n",
       "58920    0.955126\n",
       "58921    0.986097\n",
       "Name: ACTION, Length: 58921, dtype: float64"
      ]
     },
     "execution_count": 7,
     "metadata": {},
     "output_type": "execute_result"
    }
   ],
   "source": [
    "_, y_pred = crossval_predict(model, cv, X_train, y_train, X_new=X_test,\n",
    "                             scoring=scoring, method='predict_proba',\n",
    "                             avg_type='mean', verbose=2, n_jobs=-1)\n",
    "\n",
    "y_pred # the same"
   ]
  },
  {
   "cell_type": "markdown",
   "metadata": {},
   "source": [
    "### Rank Averaging"
   ]
  },
  {
   "cell_type": "code",
   "execution_count": 8,
   "metadata": {},
   "outputs": [
    {
     "name": "stdout",
     "output_type": "stream",
     "text": [
      "[11:13:08]  LGBMClassifier\n",
      "\n",
      "[11:13:11]  FOLD  0:   0.8288\n",
      "[11:13:11]  FOLD  1:   0.8555\n",
      "[11:13:11]  FOLD  2:   0.8260\n",
      "[11:13:11]  FOLD  3:   0.8286\n",
      "[11:13:11]  FOLD  4:   0.8533\n",
      "\n",
      "[11:13:11]  AVERAGE:   \u001b[33m0.8384\u001b[0m ± 0.0131\n",
      "\n"
     ]
    },
    {
     "data": {
      "text/plain": [
       "id\n",
       "1        0.181859\n",
       "2        0.544492\n",
       "3        0.548884\n",
       "4        0.507771\n",
       "5        0.852270\n",
       "           ...   \n",
       "58917    0.534672\n",
       "58918    0.229480\n",
       "58919    0.271974\n",
       "58920    0.357107\n",
       "58921    0.846123\n",
       "Name: ACTION, Length: 58921, dtype: float64"
      ]
     },
     "execution_count": 8,
     "metadata": {},
     "output_type": "execute_result"
    }
   ],
   "source": [
    "_, y_pred = crossval_predict(model, cv, X_train, y_train, X_new=X_test,\n",
    "                             scoring=scoring, method='predict_proba',\n",
    "                             avg_type='rank', verbose=2, n_jobs=-1)\n",
    "\n",
    "y_pred"
   ]
  },
  {
   "cell_type": "markdown",
   "metadata": {},
   "source": [
    "## Predict Classes"
   ]
  },
  {
   "cell_type": "markdown",
   "metadata": {},
   "source": [
    "### Soft Vote (used by default)"
   ]
  },
  {
   "cell_type": "code",
   "execution_count": 9,
   "metadata": {},
   "outputs": [
    {
     "name": "stdout",
     "output_type": "stream",
     "text": [
      "[11:13:11]  LGBMClassifier\n",
      "\n",
      "[11:13:13]  FOLD  0:   0.8288\n",
      "[11:13:13]  FOLD  1:   0.8555\n",
      "[11:13:13]  FOLD  2:   0.8260\n",
      "[11:13:13]  FOLD  3:   0.8286\n",
      "[11:13:13]  FOLD  4:   0.8533\n",
      "\n",
      "[11:13:14]  AVERAGE:   \u001b[33m0.8384\u001b[0m ± 0.0131\n",
      "\n"
     ]
    },
    {
     "data": {
      "text/plain": [
       "1    58512\n",
       "0      409\n",
       "dtype: int64"
      ]
     },
     "execution_count": 9,
     "metadata": {},
     "output_type": "execute_result"
    }
   ],
   "source": [
    "_, y_pred = crossval_predict(model, cv, X_train, y_train, X_new=X_test,\n",
    "                             scoring=scoring, verbose=2, n_jobs=-1)\n",
    "\n",
    "y_pred.value_counts()"
   ]
  },
  {
   "cell_type": "code",
   "execution_count": 10,
   "metadata": {},
   "outputs": [
    {
     "name": "stdout",
     "output_type": "stream",
     "text": [
      "[11:13:14]  LGBMClassifier\n",
      "\n",
      "[11:13:16]  FOLD  0:   0.8288\n",
      "[11:13:16]  FOLD  1:   0.8555\n",
      "[11:13:16]  FOLD  2:   0.8260\n",
      "[11:13:16]  FOLD  3:   0.8286\n",
      "[11:13:16]  FOLD  4:   0.8533\n",
      "\n",
      "[11:13:17]  AVERAGE:   \u001b[33m0.8384\u001b[0m ± 0.0131\n",
      "\n"
     ]
    },
    {
     "data": {
      "text/plain": [
       "1    58512\n",
       "0      409\n",
       "dtype: int64"
      ]
     },
     "execution_count": 10,
     "metadata": {},
     "output_type": "execute_result"
    }
   ],
   "source": [
    "_, y_pred = crossval_predict(model, cv, X_train, y_train, X_new=X_test,\n",
    "                             scoring=scoring, avg_type='soft',\n",
    "                             verbose=2, n_jobs=-1)\n",
    "\n",
    "y_pred.value_counts() # the same"
   ]
  },
  {
   "cell_type": "code",
   "execution_count": 11,
   "metadata": {},
   "outputs": [
    {
     "name": "stdout",
     "output_type": "stream",
     "text": [
      "[11:13:17]  LGBMClassifier\n",
      "\n",
      "[11:13:19]  FOLD  0:   0.8288\n",
      "[11:13:19]  FOLD  1:   0.8555\n",
      "[11:13:19]  FOLD  2:   0.8260\n",
      "[11:13:19]  FOLD  3:   0.8286\n",
      "[11:13:19]  FOLD  4:   0.8533\n",
      "\n",
      "[11:13:19]  AVERAGE:   \u001b[33m0.8384\u001b[0m ± 0.0131\n",
      "\n"
     ]
    },
    {
     "data": {
      "text/plain": [
       "1    58512\n",
       "0      409\n",
       "dtype: int64"
      ]
     },
     "execution_count": 11,
     "metadata": {},
     "output_type": "execute_result"
    }
   ],
   "source": [
    "_, y_pred = crossval_predict(model, cv, X_train, y_train, X_new=X_test,\n",
    "                             scoring=scoring, avg_type='auto',\n",
    "                             verbose=2, n_jobs=-1)\n",
    "\n",
    "y_pred.value_counts() # the same"
   ]
  },
  {
   "cell_type": "markdown",
   "metadata": {},
   "source": [
    "### Hard Vote"
   ]
  },
  {
   "cell_type": "code",
   "execution_count": 12,
   "metadata": {},
   "outputs": [
    {
     "name": "stdout",
     "output_type": "stream",
     "text": [
      "[11:13:19]  LGBMClassifier\n",
      "\n",
      "[11:13:22]  FOLD  0:   0.8288\n",
      "[11:13:22]  FOLD  1:   0.8555\n",
      "[11:13:22]  FOLD  2:   0.8260\n",
      "[11:13:22]  FOLD  3:   0.8286\n",
      "[11:13:22]  FOLD  4:   0.8533\n",
      "\n",
      "[11:13:39]  AVERAGE:   \u001b[33m0.8384\u001b[0m ± 0.0131\n",
      "\n"
     ]
    },
    {
     "data": {
      "text/plain": [
       "1    58478\n",
       "0      443\n",
       "dtype: int64"
      ]
     },
     "execution_count": 12,
     "metadata": {},
     "output_type": "execute_result"
    }
   ],
   "source": [
    "_, y_pred = crossval_predict(model, cv, X_train, y_train, X_new=X_test,\n",
    "                             scoring=scoring, avg_type='hard',\n",
    "                             verbose=2, n_jobs=-1)\n",
    "\n",
    "y_pred.value_counts() # differs"
   ]
  },
  {
   "cell_type": "markdown",
   "metadata": {},
   "source": [
    "# Regression"
   ]
  },
  {
   "cell_type": "markdown",
   "metadata": {},
   "source": [
    "## Task"
   ]
  },
  {
   "cell_type": "code",
   "execution_count": 13,
   "metadata": {},
   "outputs": [],
   "source": [
    "scoring = 'r2'\n",
    "cv = 5"
   ]
  },
  {
   "cell_type": "markdown",
   "metadata": {},
   "source": [
    "## Model"
   ]
  },
  {
   "cell_type": "code",
   "execution_count": 14,
   "metadata": {},
   "outputs": [],
   "source": [
    "from lightgbm import LGBMRegressor\n",
    "\n",
    "model = LGBMRegressor()"
   ]
  },
  {
   "cell_type": "code",
   "execution_count": 15,
   "metadata": {},
   "outputs": [
    {
     "name": "stdout",
     "output_type": "stream",
     "text": [
      "[11:13:39]  LGBMRegressor\n",
      "\n",
      "[11:13:41]  FOLD  0:   0.1796\n",
      "[11:13:41]  FOLD  1:   0.1956\n",
      "[11:13:41]  FOLD  2:   0.1625\n",
      "[11:13:41]  FOLD  3:   0.1684\n",
      "[11:13:42]  FOLD  4:   0.1985\n",
      "\n",
      "[11:13:42]  AVERAGE:   \u001b[33m0.1809\u001b[0m ± 0.0143\n",
      "\n"
     ]
    },
    {
     "data": {
      "text/plain": [
       "id\n",
       "1        0.878580\n",
       "2        0.968145\n",
       "3        0.963126\n",
       "4        0.969735\n",
       "5        0.979322\n",
       "           ...   \n",
       "58917    0.962907\n",
       "58918    0.917970\n",
       "58919    0.941375\n",
       "58920    0.955532\n",
       "58921    0.985731\n",
       "Name: ACTION, Length: 58921, dtype: float64"
      ]
     },
     "execution_count": 15,
     "metadata": {},
     "output_type": "execute_result"
    }
   ],
   "source": [
    "_, y_pred = crossval_predict(model, cv, X_train, y_train, X_new=X_test,\n",
    "                             scoring=scoring, verbose=2, n_jobs=-1)\n",
    "\n",
    "y_pred"
   ]
  }
 ],
 "metadata": {
  "kernelspec": {
   "display_name": "Python 3",
   "language": "python",
   "name": "python3"
  },
  "language_info": {
   "codemirror_mode": {
    "name": "ipython",
    "version": 3
   },
   "file_extension": ".py",
   "mimetype": "text/x-python",
   "name": "python",
   "nbconvert_exporter": "python",
   "pygments_lexer": "ipython3",
   "version": "3.6.8"
  }
 },
 "nbformat": 4,
 "nbformat_minor": 2
}
