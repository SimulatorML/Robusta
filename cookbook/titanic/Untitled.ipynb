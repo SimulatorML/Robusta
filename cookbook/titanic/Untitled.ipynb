{
 "cells": [
  {
   "cell_type": "code",
   "execution_count": 1,
   "metadata": {},
   "outputs": [],
   "source": [
    "import numpy as np\n",
    "import pandas as pd\n",
    "\n",
    "from joblib import Parallel, delayed\n",
    "\n",
    "import datetime\n",
    "import time"
   ]
  },
  {
   "cell_type": "code",
   "execution_count": 79,
   "metadata": {},
   "outputs": [],
   "source": [
    "class CVLogger(object):\n",
    "    \n",
    "    def __init__(self, folds, verbose=1):\n",
    "        self.verbose = verbose\n",
    "        self.n_folds = len(list(folds))\n",
    "        self.messages = {}\n",
    "        self.last_ind = -1\n",
    "        \n",
    "    def log(self, ind, msg):\n",
    "        # Save message for fold_k\n",
    "        self.messages[ind] = msg\n",
    "\n",
    "        # If all previous folds are ready, print them\n",
    "        for i in range(self.last_ind, self.n_folds):\n",
    "            if i in self.messages.keys():\n",
    "                if i >= ind and verbose > 0:\n",
    "                    self._log_msg(i)\n",
    "            else:\n",
    "                break\n",
    "\n",
    "    def _log_msg(self, ind):\n",
    "        self.last_ind = ind\n",
    "        msg = self.messages[ind]\n",
    "        t = datetime.datetime.now().strftime(\"[%H:%M:%S]\")\n",
    "        print(t, msg)\n",
    "\n",
    "\n",
    "def _func(k, r, logger=None):\n",
    "    time.sleep(r)\n",
    "    \n",
    "    if logger:\n",
    "        msg = 'task: {} \\ttime: {}'.format(k, r)\n",
    "        logger.log(k, msg)"
   ]
  },
  {
   "cell_type": "code",
   "execution_count": 82,
   "metadata": {},
   "outputs": [
    {
     "name": "stdout",
     "output_type": "stream",
     "text": [
      "[3.5 4.1 1.9 3.2 1.3 0.1 2.2 0.8 4.4 1.6]\n",
      "4.4\n",
      "23.1\n"
     ]
    }
   ],
   "source": [
    "rr = np.round(np.random.random(10)*5, 1)\n",
    "\n",
    "print(rr)\n",
    "print(max(rr))\n",
    "print(sum(rr))"
   ]
  },
  {
   "cell_type": "code",
   "execution_count": 83,
   "metadata": {},
   "outputs": [
    {
     "name": "stdout",
     "output_type": "stream",
     "text": [
      "[00:04:37] task: 0 \ttime: 3.5\n",
      "[00:04:38] task: 1 \ttime: 4.1\n",
      "[00:04:38] task: 2 \ttime: 1.9\n",
      "[00:04:38] task: 3 \ttime: 3.2\n",
      "[00:04:38] task: 4 \ttime: 1.3\n",
      "[00:04:38] task: 5 \ttime: 0.1\n",
      "[00:04:38] task: 6 \ttime: 2.2\n",
      "[00:04:38] task: 7 \ttime: 0.8\n",
      "[00:04:38] task: 8 \ttime: 4.4\n",
      "[00:04:38] task: 9 \ttime: 1.6\n",
      "CPU times: user 19.2 ms, sys: 8.41 ms, total: 27.6 ms\n",
      "Wall time: 4.61 s\n"
     ]
    }
   ],
   "source": [
    "%%time\n",
    "q = 0\n",
    "\n",
    "parallel = Parallel(max_nbytes='256M', pre_dispatch='2*n_jobs', n_jobs=-1, require='sharedmem')\n",
    "logger = CVLogger(rr, verbose=1)\n",
    "\n",
    "parallel((delayed(_func)(i, r, logger) for i, r in enumerate(rr)))"
   ]
  },
  {
   "cell_type": "code",
   "execution_count": 74,
   "metadata": {},
   "outputs": [
    {
     "data": {
      "text/plain": [
       "{1: 'task: 1 \\ttime: 0.1',\n",
       " 8: 'task: 8 \\ttime: 0.9',\n",
       " 3: 'task: 3 \\ttime: 1.2',\n",
       " 0: 'task: 0 \\ttime: 2.0',\n",
       " 9: 'task: 9 \\ttime: 1.4',\n",
       " 4: 'task: 4 \\ttime: 2.5',\n",
       " 6: 'task: 6 \\ttime: 2.5',\n",
       " 2: 'task: 2 \\ttime: 3.3',\n",
       " 5: 'task: 5 \\ttime: 3.7',\n",
       " 7: 'task: 7 \\ttime: 4.7'}"
      ]
     },
     "execution_count": 74,
     "metadata": {},
     "output_type": "execute_result"
    }
   ],
   "source": [
    "logger.messages"
   ]
  },
  {
   "cell_type": "code",
   "execution_count": 40,
   "metadata": {},
   "outputs": [
    {
     "name": "stdout",
     "output_type": "stream",
     "text": [
      "0 10 20\n",
      "1 11 21\n",
      "2 12 22\n",
      "3 13 23\n",
      "4 14 24\n",
      "5 15 25\n",
      "6 16 26\n",
      "7 17 27\n",
      "8 18 28\n",
      "9 19 29\n"
     ]
    }
   ],
   "source": [
    "a = np.arange(10, 20)\n",
    "b = a + 10\n",
    "for k, (i, j) in enumerate(zip(a,b)):\n",
    "    print(k, i, j)"
   ]
  }
 ],
 "metadata": {
  "kernelspec": {
   "display_name": "Python 3",
   "language": "python",
   "name": "python3"
  },
  "language_info": {
   "codemirror_mode": {
    "name": "ipython",
    "version": 3
   },
   "file_extension": ".py",
   "mimetype": "text/x-python",
   "name": "python",
   "nbconvert_exporter": "python",
   "pygments_lexer": "ipython3",
   "version": "3.6.8"
  }
 },
 "nbformat": 4,
 "nbformat_minor": 2
}
