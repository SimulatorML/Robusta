{
 "cells": [
  {
   "cell_type": "markdown",
   "metadata": {
    "heading_collapsed": true
   },
   "source": [
    "# Imports"
   ]
  },
  {
   "cell_type": "code",
   "execution_count": 1,
   "metadata": {
    "hidden": true
   },
   "outputs": [],
   "source": [
    "# Basic imports\n",
    "import pandas as pd\n",
    "import numpy as np\n",
    "\n",
    "# Warnings\n",
    "import warnings \n",
    "warnings.simplefilter(\"ignore\")"
   ]
  },
  {
   "cell_type": "code",
   "execution_count": 2,
   "metadata": {
    "hidden": true
   },
   "outputs": [],
   "source": [
    "# Plot\n",
    "from IPython import display\n",
    "import seaborn as sns\n",
    "\n",
    "import matplotlib\n",
    "import matplotlib.pylab as plt\n",
    "from jupyterthemes import jtplot\n",
    "\n",
    "jtplot.style('gruvboxd')\n",
    "matplotlib.use('nbagg')"
   ]
  },
  {
   "cell_type": "markdown",
   "metadata": {
    "heading_collapsed": true
   },
   "source": [
    "# Data Reading"
   ]
  },
  {
   "cell_type": "code",
   "execution_count": 3,
   "metadata": {
    "hidden": true
   },
   "outputs": [
    {
     "data": {
      "text/html": [
       "<div>\n",
       "<style scoped>\n",
       "    .dataframe tbody tr th:only-of-type {\n",
       "        vertical-align: middle;\n",
       "    }\n",
       "\n",
       "    .dataframe tbody tr th {\n",
       "        vertical-align: top;\n",
       "    }\n",
       "\n",
       "    .dataframe thead th {\n",
       "        text-align: right;\n",
       "    }\n",
       "</style>\n",
       "<table border=\"1\" class=\"dataframe\">\n",
       "  <thead>\n",
       "    <tr style=\"text-align: right;\">\n",
       "      <th></th>\n",
       "      <th>Pclass</th>\n",
       "      <th>Name</th>\n",
       "      <th>Sex</th>\n",
       "      <th>Age</th>\n",
       "      <th>SibSp</th>\n",
       "      <th>Parch</th>\n",
       "      <th>Ticket</th>\n",
       "      <th>Fare</th>\n",
       "      <th>Cabin</th>\n",
       "      <th>Embarked</th>\n",
       "    </tr>\n",
       "    <tr>\n",
       "      <th>PassengerId</th>\n",
       "      <th></th>\n",
       "      <th></th>\n",
       "      <th></th>\n",
       "      <th></th>\n",
       "      <th></th>\n",
       "      <th></th>\n",
       "      <th></th>\n",
       "      <th></th>\n",
       "      <th></th>\n",
       "      <th></th>\n",
       "    </tr>\n",
       "  </thead>\n",
       "  <tbody>\n",
       "    <tr>\n",
       "      <th>1</th>\n",
       "      <td>3</td>\n",
       "      <td>Braund, Mr. Owen Harris</td>\n",
       "      <td>male</td>\n",
       "      <td>22.0</td>\n",
       "      <td>1</td>\n",
       "      <td>0</td>\n",
       "      <td>A/5 21171</td>\n",
       "      <td>7.2500</td>\n",
       "      <td>NaN</td>\n",
       "      <td>S</td>\n",
       "    </tr>\n",
       "    <tr>\n",
       "      <th>2</th>\n",
       "      <td>1</td>\n",
       "      <td>Cumings, Mrs. John Bradley (Florence Briggs Th...</td>\n",
       "      <td>female</td>\n",
       "      <td>38.0</td>\n",
       "      <td>1</td>\n",
       "      <td>0</td>\n",
       "      <td>PC 17599</td>\n",
       "      <td>71.2833</td>\n",
       "      <td>C85</td>\n",
       "      <td>C</td>\n",
       "    </tr>\n",
       "    <tr>\n",
       "      <th>3</th>\n",
       "      <td>3</td>\n",
       "      <td>Heikkinen, Miss. Laina</td>\n",
       "      <td>female</td>\n",
       "      <td>26.0</td>\n",
       "      <td>0</td>\n",
       "      <td>0</td>\n",
       "      <td>STON/O2. 3101282</td>\n",
       "      <td>7.9250</td>\n",
       "      <td>NaN</td>\n",
       "      <td>S</td>\n",
       "    </tr>\n",
       "    <tr>\n",
       "      <th>4</th>\n",
       "      <td>1</td>\n",
       "      <td>Futrelle, Mrs. Jacques Heath (Lily May Peel)</td>\n",
       "      <td>female</td>\n",
       "      <td>35.0</td>\n",
       "      <td>1</td>\n",
       "      <td>0</td>\n",
       "      <td>113803</td>\n",
       "      <td>53.1000</td>\n",
       "      <td>C123</td>\n",
       "      <td>S</td>\n",
       "    </tr>\n",
       "    <tr>\n",
       "      <th>5</th>\n",
       "      <td>3</td>\n",
       "      <td>Allen, Mr. William Henry</td>\n",
       "      <td>male</td>\n",
       "      <td>35.0</td>\n",
       "      <td>0</td>\n",
       "      <td>0</td>\n",
       "      <td>373450</td>\n",
       "      <td>8.0500</td>\n",
       "      <td>NaN</td>\n",
       "      <td>S</td>\n",
       "    </tr>\n",
       "  </tbody>\n",
       "</table>\n",
       "</div>"
      ],
      "text/plain": [
       "             Pclass                                               Name  \\\n",
       "PassengerId                                                              \n",
       "1                 3                            Braund, Mr. Owen Harris   \n",
       "2                 1  Cumings, Mrs. John Bradley (Florence Briggs Th...   \n",
       "3                 3                             Heikkinen, Miss. Laina   \n",
       "4                 1       Futrelle, Mrs. Jacques Heath (Lily May Peel)   \n",
       "5                 3                           Allen, Mr. William Henry   \n",
       "\n",
       "                Sex   Age  SibSp  Parch            Ticket     Fare Cabin  \\\n",
       "PassengerId                                                                \n",
       "1              male  22.0      1      0         A/5 21171   7.2500   NaN   \n",
       "2            female  38.0      1      0          PC 17599  71.2833   C85   \n",
       "3            female  26.0      0      0  STON/O2. 3101282   7.9250   NaN   \n",
       "4            female  35.0      1      0            113803  53.1000  C123   \n",
       "5              male  35.0      0      0            373450   8.0500   NaN   \n",
       "\n",
       "            Embarked  \n",
       "PassengerId           \n",
       "1                  S  \n",
       "2                  C  \n",
       "3                  S  \n",
       "4                  S  \n",
       "5                  S  "
      ]
     },
     "execution_count": 3,
     "metadata": {},
     "output_type": "execute_result"
    }
   ],
   "source": [
    "from catboost.datasets import titanic\n",
    "\n",
    "# Data Reading\n",
    "df_train, df_test = titanic()\n",
    "df_train.set_index('PassengerId', inplace=True)\n",
    "df_test.set_index('PassengerId', inplace=True)\n",
    "\n",
    "# Split X_train, y_train\n",
    "target = 'Survived'\n",
    "features = df_test.columns\n",
    "\n",
    "y_train = df_train[target]\n",
    "df_train = df_train[features]\n",
    "\n",
    "df_train.head()"
   ]
  },
  {
   "cell_type": "markdown",
   "metadata": {
    "heading_collapsed": true
   },
   "source": [
    "# Preprocessing"
   ]
  },
  {
   "cell_type": "code",
   "execution_count": 4,
   "metadata": {
    "hidden": true
   },
   "outputs": [
    {
     "data": {
      "text/html": [
       "<div>\n",
       "<style scoped>\n",
       "    .dataframe tbody tr th:only-of-type {\n",
       "        vertical-align: middle;\n",
       "    }\n",
       "\n",
       "    .dataframe tbody tr th {\n",
       "        vertical-align: top;\n",
       "    }\n",
       "\n",
       "    .dataframe thead th {\n",
       "        text-align: right;\n",
       "    }\n",
       "</style>\n",
       "<table border=\"1\" class=\"dataframe\">\n",
       "  <thead>\n",
       "    <tr style=\"text-align: right;\">\n",
       "      <th></th>\n",
       "      <th>Age</th>\n",
       "      <th>Fare</th>\n",
       "      <th>SibSp</th>\n",
       "      <th>Parch</th>\n",
       "      <th>Pclass</th>\n",
       "      <th>Sex</th>\n",
       "      <th>Embarked</th>\n",
       "    </tr>\n",
       "    <tr>\n",
       "      <th>PassengerId</th>\n",
       "      <th></th>\n",
       "      <th></th>\n",
       "      <th></th>\n",
       "      <th></th>\n",
       "      <th></th>\n",
       "      <th></th>\n",
       "      <th></th>\n",
       "    </tr>\n",
       "  </thead>\n",
       "  <tbody>\n",
       "    <tr>\n",
       "      <th>1</th>\n",
       "      <td>-0.488867</td>\n",
       "      <td>-0.968076</td>\n",
       "      <td>0.600843</td>\n",
       "      <td>-0.214091</td>\n",
       "      <td>2</td>\n",
       "      <td>1</td>\n",
       "      <td>2</td>\n",
       "    </tr>\n",
       "    <tr>\n",
       "      <th>2</th>\n",
       "      <td>0.584412</td>\n",
       "      <td>0.853865</td>\n",
       "      <td>0.600843</td>\n",
       "      <td>-0.214091</td>\n",
       "      <td>0</td>\n",
       "      <td>0</td>\n",
       "      <td>0</td>\n",
       "    </tr>\n",
       "    <tr>\n",
       "      <th>3</th>\n",
       "      <td>-0.275357</td>\n",
       "      <td>-0.454031</td>\n",
       "      <td>-0.290348</td>\n",
       "      <td>-0.214091</td>\n",
       "      <td>2</td>\n",
       "      <td>0</td>\n",
       "      <td>2</td>\n",
       "    </tr>\n",
       "    <tr>\n",
       "      <th>4</th>\n",
       "      <td>0.470091</td>\n",
       "      <td>0.703973</td>\n",
       "      <td>0.600843</td>\n",
       "      <td>-0.214091</td>\n",
       "      <td>0</td>\n",
       "      <td>0</td>\n",
       "      <td>2</td>\n",
       "    </tr>\n",
       "    <tr>\n",
       "      <th>5</th>\n",
       "      <td>0.470091</td>\n",
       "      <td>-0.379298</td>\n",
       "      <td>-0.290348</td>\n",
       "      <td>-0.214091</td>\n",
       "      <td>2</td>\n",
       "      <td>1</td>\n",
       "      <td>2</td>\n",
       "    </tr>\n",
       "  </tbody>\n",
       "</table>\n",
       "</div>"
      ],
      "text/plain": [
       "                  Age      Fare     SibSp     Parch  Pclass  Sex  Embarked\n",
       "PassengerId                                                               \n",
       "1           -0.488867 -0.968076  0.600843 -0.214091       2    1         2\n",
       "2            0.584412  0.853865  0.600843 -0.214091       0    0         0\n",
       "3           -0.275357 -0.454031 -0.290348 -0.214091       2    0         2\n",
       "4            0.470091  0.703973  0.600843 -0.214091       0    0         2\n",
       "5            0.470091 -0.379298 -0.290348 -0.214091       2    1         2"
      ]
     },
     "execution_count": 4,
     "metadata": {},
     "output_type": "execute_result"
    }
   ],
   "source": [
    "from robusta.preprocessing.category import *\n",
    "from robusta.preprocessing.numeric import *\n",
    "from robusta.preprocessing.base import *\n",
    "from robusta.pipeline import *\n",
    "\n",
    "nums = ['Age', 'Fare', 'SibSp', 'Parch']\n",
    "cats = ['Pclass', 'Sex', 'Embarked']\n",
    "\n",
    "data_prep = FeatureUnion([\n",
    "        (\"numeric\", make_pipeline(\n",
    "            ColumnSelector(nums),\n",
    "            Imputer(strategy=\"median\"),\n",
    "            GaussRank(),\n",
    "            #ColumnRenamer(prefix='gr_'),\n",
    "        )),\n",
    "        (\"category\", make_pipeline(\n",
    "            ColumnSelector(cats),\n",
    "            Imputer(strategy=\"most_frequent\"),\n",
    "            LabelEncoder(),\n",
    "            #ColumnRenamer(prefix='le_'),\n",
    "        )),\n",
    "])\n",
    "\n",
    "X_train = data_prep.fit_transform(df_train)\n",
    "X_test = data_prep.transform(df_test)\n",
    "\n",
    "X_train.head()"
   ]
  },
  {
   "cell_type": "markdown",
   "metadata": {},
   "source": [
    "# Fold Preparation"
   ]
  },
  {
   "cell_type": "code",
   "execution_count": 5,
   "metadata": {},
   "outputs": [
    {
     "data": {
      "text/html": [
       "<div>\n",
       "<style scoped>\n",
       "    .dataframe tbody tr th:only-of-type {\n",
       "        vertical-align: middle;\n",
       "    }\n",
       "\n",
       "    .dataframe tbody tr th {\n",
       "        vertical-align: top;\n",
       "    }\n",
       "\n",
       "    .dataframe thead th {\n",
       "        text-align: right;\n",
       "    }\n",
       "</style>\n",
       "<table border=\"1\" class=\"dataframe\">\n",
       "  <thead>\n",
       "    <tr style=\"text-align: right;\">\n",
       "      <th></th>\n",
       "      <th>Embarked</th>\n",
       "      <th>Pclass</th>\n",
       "      <th>Sex</th>\n",
       "      <th>Age</th>\n",
       "      <th>Fare</th>\n",
       "      <th>SibSp</th>\n",
       "      <th>Parch</th>\n",
       "    </tr>\n",
       "  </thead>\n",
       "  <tbody>\n",
       "    <tr>\n",
       "      <th>928</th>\n",
       "      <td>0.453032</td>\n",
       "      <td>0.672597</td>\n",
       "      <td>0.785270</td>\n",
       "      <td>0.491782</td>\n",
       "      <td>1.040380</td>\n",
       "      <td>0.600843</td>\n",
       "      <td>-0.214091</td>\n",
       "    </tr>\n",
       "    <tr>\n",
       "      <th>873</th>\n",
       "      <td>0.457019</td>\n",
       "      <td>0.354773</td>\n",
       "      <td>0.273246</td>\n",
       "      <td>0.888832</td>\n",
       "      <td>-0.271711</td>\n",
       "      <td>-0.290348</td>\n",
       "      <td>-0.214091</td>\n",
       "    </tr>\n",
       "    <tr>\n",
       "      <th>293</th>\n",
       "      <td>0.460378</td>\n",
       "      <td>0.346921</td>\n",
       "      <td>0.800238</td>\n",
       "      <td>-0.381808</td>\n",
       "      <td>-0.274934</td>\n",
       "      <td>-0.290348</td>\n",
       "      <td>-0.214091</td>\n",
       "    </tr>\n",
       "    <tr>\n",
       "      <th>760</th>\n",
       "      <td>0.457019</td>\n",
       "      <td>0.354773</td>\n",
       "      <td>0.273246</td>\n",
       "      <td>-0.013926</td>\n",
       "      <td>0.016949</td>\n",
       "      <td>-0.290348</td>\n",
       "      <td>-0.214091</td>\n",
       "    </tr>\n",
       "    <tr>\n",
       "      <th>126</th>\n",
       "      <td>0.474911</td>\n",
       "      <td>0.326256</td>\n",
       "      <td>0.252564</td>\n",
       "      <td>-0.013926</td>\n",
       "      <td>-0.770943</td>\n",
       "      <td>-0.290348</td>\n",
       "      <td>-0.214091</td>\n",
       "    </tr>\n",
       "  </tbody>\n",
       "</table>\n",
       "</div>"
      ],
      "text/plain": [
       "     Embarked    Pclass       Sex       Age      Fare     SibSp     Parch\n",
       "928  0.453032  0.672597  0.785270  0.491782  1.040380  0.600843 -0.214091\n",
       "873  0.457019  0.354773  0.273246  0.888832 -0.271711 -0.290348 -0.214091\n",
       "293  0.460378  0.346921  0.800238 -0.381808 -0.274934 -0.290348 -0.214091\n",
       "760  0.457019  0.354773  0.273246 -0.013926  0.016949 -0.290348 -0.214091\n",
       "126  0.474911  0.326256  0.252564 -0.013926 -0.770943 -0.290348 -0.214091"
      ]
     },
     "execution_count": 5,
     "metadata": {},
     "output_type": "execute_result"
    }
   ],
   "source": [
    "from sklearn.model_selection import KFold\n",
    "from robusta.resampler import *\n",
    "\n",
    "encoder = FeatureUnion([\n",
    "    ('category', make_pipeline(\n",
    "        ColumnSelector(cats),\n",
    "        TypeConverter('object'),\n",
    "        TargetEncoderCV(cv=4).set_params(encoder__smoothing=200.0),\n",
    "    )),\n",
    "    ('numeric', make_pipeline(\n",
    "        ColumnSelector(nums),\n",
    "        Identity(),\n",
    "    )),\n",
    "])\n",
    "\n",
    "resampler = SMOTE(random_state=50, k_neighbors=30)\n",
    "\n",
    "fold_pipe = make_pipeline(resampler, encoder)\n",
    "\n",
    "F_train = fold_pipe.fit_transform(X_train, y_train)\n",
    "\n",
    "F_train.sample(5, random_state=555)"
   ]
  },
  {
   "cell_type": "markdown",
   "metadata": {},
   "source": [
    "# Evaluation"
   ]
  },
  {
   "cell_type": "code",
   "execution_count": 6,
   "metadata": {},
   "outputs": [],
   "source": [
    "from sklearn.model_selection import RepeatedStratifiedKFold\n",
    "from robusta.crossval import *\n",
    "\n",
    "cv = 5"
   ]
  },
  {
   "cell_type": "markdown",
   "metadata": {},
   "source": [
    "# Model"
   ]
  },
  {
   "cell_type": "code",
   "execution_count": 7,
   "metadata": {},
   "outputs": [
    {
     "name": "stdout",
     "output_type": "stream",
     "text": [
      "CPU times: user 448 ms, sys: 17.3 ms, total: 466 ms\n",
      "Wall time: 72.7 ms\n"
     ]
    }
   ],
   "source": [
    "%%time\n",
    "from robusta.model import get_model\n",
    "\n",
    "model = get_model('LGB', 'classifier', n_estimators=100)\n",
    "model.fit(X_train, y_train)\n",
    "\n",
    "model = make_pipeline(model)"
   ]
  },
  {
   "cell_type": "markdown",
   "metadata": {},
   "source": [
    "# Submit"
   ]
  },
  {
   "cell_type": "code",
   "execution_count": 8,
   "metadata": {},
   "outputs": [
    {
     "name": "stdout",
     "output_type": "stream",
     "text": [
      "[20:57:12]  \u001b[33m0.8652\u001b[0m ± 0.0323 (roc_auc)\n",
      "[20:57:12]  \u001b[33m0.8317\u001b[0m ± 0.0338 (accuracy)\n",
      "[20:57:12] \u001b[33m-0.4751\u001b[0m ± 0.0941 (neg_log_loss)\n",
      "\n",
      "CPU times: user 3.83 s, sys: 206 ms, total: 4.04 s\n",
      "Wall time: 627 ms\n"
     ]
    }
   ],
   "source": [
    "%%time\n",
    "y_oof, y_sub = crossval_predict(model, cv, X_train, y_train, None, X_test, verbose=1, n_jobs=1, \n",
    "                                scoring=['roc_auc', 'accuracy', 'neg_log_loss']\n",
    "                                #scoring='neg_log_loss'\n",
    "                                #scoring=None\n",
    "                               )"
   ]
  },
  {
   "cell_type": "code",
   "execution_count": 9,
   "metadata": {},
   "outputs": [
    {
     "name": "stdout",
     "output_type": "stream",
     "text": [
      "[20:57:12] LGBMClassifier\n",
      "\n",
      "[20:57:12] FOLD 0:   0.8404 (roc_auc)   0.7989 (accuracy)  -0.5034 (neg_log_loss)\n",
      "[20:57:13] FOLD 1:   0.8279 (roc_auc)   0.8212 (accuracy)  -0.6110 (neg_log_loss)\n",
      "[20:57:13] FOLD 2:   0.8911 (roc_auc)   0.8652 (accuracy)  -0.3935 (neg_log_loss)\n",
      "[20:57:13] FOLD 3:   0.8624 (roc_auc)   0.8034 (accuracy)  -0.4892 (neg_log_loss)\n",
      "[20:57:13] FOLD 4:   0.9039 (roc_auc)   0.8701 (accuracy)  -0.3786 (neg_log_loss)\n",
      "\n",
      "[20:57:13]  \u001b[33m0.8652\u001b[0m ± 0.0323 (roc_auc)\n",
      "[20:57:13]  \u001b[33m0.8317\u001b[0m ± 0.0338 (accuracy)\n",
      "[20:57:13] \u001b[33m-0.4751\u001b[0m ± 0.0941 (neg_log_loss)\n",
      "\n",
      "CPU times: user 5.44 s, sys: 582 ms, total: 6.02 s\n",
      "Wall time: 1.05 s\n"
     ]
    }
   ],
   "source": [
    "%%time\n",
    "y_oof, y_sub = crossval_predict(model, cv, X_train, y_train, None, X_test, verbose=2, n_jobs=1, \n",
    "                                scoring=['roc_auc', 'accuracy', 'neg_log_loss']\n",
    "                                #scoring='neg_log_loss'\n",
    "                                #scoring=None\n",
    "                               )"
   ]
  },
  {
   "cell_type": "code",
   "execution_count": 10,
   "metadata": {},
   "outputs": [
    {
     "name": "stdout",
     "output_type": "stream",
     "text": [
      "[20:57:13] LGBMClassifier\n",
      "\n",
      "[20:57:13] FOLD 0:   0.8404 (roc_auc)\n",
      "[20:57:13] FOLD 1:   0.8279 (roc_auc)\n",
      "[20:57:13] FOLD 2:   0.8911 (roc_auc)\n",
      "[20:57:13] FOLD 3:   0.8624 (roc_auc)\n",
      "[20:57:13] FOLD 4:   0.9039 (roc_auc)\n",
      "\n",
      "[20:57:13]  \u001b[33m0.8652\u001b[0m ± 0.0323 (roc_auc)\n",
      "\n",
      "CPU times: user 3.61 s, sys: 194 ms, total: 3.8 s\n",
      "Wall time: 526 ms\n"
     ]
    }
   ],
   "source": [
    "%%time\n",
    "y_oof, y_sub = crossval_predict(model, cv, X_train, y_train, None, X_test, verbose=2, n_jobs=1, \n",
    "                                #scoring=['roc_auc', 'accuracy', 'neg_log_loss']\n",
    "                                #scoring='neg_log_loss'\n",
    "                                #scoring=None\n",
    "                               )"
   ]
  },
  {
   "cell_type": "markdown",
   "metadata": {},
   "source": [
    "`0.8652 ± 0.0323`"
   ]
  }
 ],
 "metadata": {
  "kernelspec": {
   "display_name": "Python 3",
   "language": "python",
   "name": "python3"
  },
  "language_info": {
   "codemirror_mode": {
    "name": "ipython",
    "version": 3
   },
   "file_extension": ".py",
   "mimetype": "text/x-python",
   "name": "python",
   "nbconvert_exporter": "python",
   "pygments_lexer": "ipython3",
   "version": "3.6.8"
  },
  "toc": {
   "colors": {
    "hover_highlight": "#DAA520",
    "navigate_num": "#000000",
    "navigate_text": "#333333",
    "running_highlight": "#FF0000",
    "selected_highlight": "#FFD700",
    "sidebar_border": "#EEEEEE",
    "wrapper_background": "#FFFFFF"
   },
   "moveMenuLeft": false,
   "nav_menu": {
    "height": "32px",
    "width": "250px"
   },
   "navigate_menu": true,
   "number_sections": true,
   "sideBar": true,
   "threshold": 4,
   "toc_cell": true,
   "toc_section_display": "block",
   "toc_window_display": true,
   "widenNotebook": false
  }
 },
 "nbformat": 4,
 "nbformat_minor": 2
}
