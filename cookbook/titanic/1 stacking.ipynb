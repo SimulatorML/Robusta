{
 "cells": [
  {
   "cell_type": "markdown",
   "metadata": {
    "heading_collapsed": true
   },
   "source": [
    "# Imports"
   ]
  },
  {
   "cell_type": "code",
   "execution_count": 1,
   "metadata": {
    "hidden": true
   },
   "outputs": [],
   "source": [
    "# Basic imports\n",
    "import pandas as pd\n",
    "import numpy as np\n",
    "\n",
    "# Warnings\n",
    "import warnings \n",
    "warnings.simplefilter(\"ignore\")"
   ]
  },
  {
   "cell_type": "code",
   "execution_count": 2,
   "metadata": {
    "hidden": true
   },
   "outputs": [],
   "source": [
    "# Plot\n",
    "from IPython import display\n",
    "import seaborn as sns\n",
    "\n",
    "import matplotlib\n",
    "import matplotlib.pylab as plt\n",
    "from jupyterthemes import jtplot\n",
    "\n",
    "jtplot.style('gruvboxd')\n",
    "matplotlib.use('nbagg')"
   ]
  },
  {
   "cell_type": "markdown",
   "metadata": {
    "heading_collapsed": true
   },
   "source": [
    "# Data Reading"
   ]
  },
  {
   "cell_type": "code",
   "execution_count": 3,
   "metadata": {
    "hidden": true
   },
   "outputs": [
    {
     "data": {
      "text/html": [
       "<div>\n",
       "<style scoped>\n",
       "    .dataframe tbody tr th:only-of-type {\n",
       "        vertical-align: middle;\n",
       "    }\n",
       "\n",
       "    .dataframe tbody tr th {\n",
       "        vertical-align: top;\n",
       "    }\n",
       "\n",
       "    .dataframe thead th {\n",
       "        text-align: right;\n",
       "    }\n",
       "</style>\n",
       "<table border=\"1\" class=\"dataframe\">\n",
       "  <thead>\n",
       "    <tr style=\"text-align: right;\">\n",
       "      <th></th>\n",
       "      <th>Pclass</th>\n",
       "      <th>Name</th>\n",
       "      <th>Sex</th>\n",
       "      <th>Age</th>\n",
       "      <th>SibSp</th>\n",
       "      <th>Parch</th>\n",
       "      <th>Ticket</th>\n",
       "      <th>Fare</th>\n",
       "      <th>Cabin</th>\n",
       "      <th>Embarked</th>\n",
       "    </tr>\n",
       "    <tr>\n",
       "      <th>PassengerId</th>\n",
       "      <th></th>\n",
       "      <th></th>\n",
       "      <th></th>\n",
       "      <th></th>\n",
       "      <th></th>\n",
       "      <th></th>\n",
       "      <th></th>\n",
       "      <th></th>\n",
       "      <th></th>\n",
       "      <th></th>\n",
       "    </tr>\n",
       "  </thead>\n",
       "  <tbody>\n",
       "    <tr>\n",
       "      <th>1</th>\n",
       "      <td>3</td>\n",
       "      <td>Braund, Mr. Owen Harris</td>\n",
       "      <td>male</td>\n",
       "      <td>22.0</td>\n",
       "      <td>1</td>\n",
       "      <td>0</td>\n",
       "      <td>A/5 21171</td>\n",
       "      <td>7.2500</td>\n",
       "      <td>NaN</td>\n",
       "      <td>S</td>\n",
       "    </tr>\n",
       "    <tr>\n",
       "      <th>2</th>\n",
       "      <td>1</td>\n",
       "      <td>Cumings, Mrs. John Bradley (Florence Briggs Th...</td>\n",
       "      <td>female</td>\n",
       "      <td>38.0</td>\n",
       "      <td>1</td>\n",
       "      <td>0</td>\n",
       "      <td>PC 17599</td>\n",
       "      <td>71.2833</td>\n",
       "      <td>C85</td>\n",
       "      <td>C</td>\n",
       "    </tr>\n",
       "    <tr>\n",
       "      <th>3</th>\n",
       "      <td>3</td>\n",
       "      <td>Heikkinen, Miss. Laina</td>\n",
       "      <td>female</td>\n",
       "      <td>26.0</td>\n",
       "      <td>0</td>\n",
       "      <td>0</td>\n",
       "      <td>STON/O2. 3101282</td>\n",
       "      <td>7.9250</td>\n",
       "      <td>NaN</td>\n",
       "      <td>S</td>\n",
       "    </tr>\n",
       "    <tr>\n",
       "      <th>4</th>\n",
       "      <td>1</td>\n",
       "      <td>Futrelle, Mrs. Jacques Heath (Lily May Peel)</td>\n",
       "      <td>female</td>\n",
       "      <td>35.0</td>\n",
       "      <td>1</td>\n",
       "      <td>0</td>\n",
       "      <td>113803</td>\n",
       "      <td>53.1000</td>\n",
       "      <td>C123</td>\n",
       "      <td>S</td>\n",
       "    </tr>\n",
       "    <tr>\n",
       "      <th>5</th>\n",
       "      <td>3</td>\n",
       "      <td>Allen, Mr. William Henry</td>\n",
       "      <td>male</td>\n",
       "      <td>35.0</td>\n",
       "      <td>0</td>\n",
       "      <td>0</td>\n",
       "      <td>373450</td>\n",
       "      <td>8.0500</td>\n",
       "      <td>NaN</td>\n",
       "      <td>S</td>\n",
       "    </tr>\n",
       "  </tbody>\n",
       "</table>\n",
       "</div>"
      ],
      "text/plain": [
       "             Pclass                                               Name  \\\n",
       "PassengerId                                                              \n",
       "1                 3                            Braund, Mr. Owen Harris   \n",
       "2                 1  Cumings, Mrs. John Bradley (Florence Briggs Th...   \n",
       "3                 3                             Heikkinen, Miss. Laina   \n",
       "4                 1       Futrelle, Mrs. Jacques Heath (Lily May Peel)   \n",
       "5                 3                           Allen, Mr. William Henry   \n",
       "\n",
       "                Sex   Age  SibSp  Parch            Ticket     Fare Cabin  \\\n",
       "PassengerId                                                                \n",
       "1              male  22.0      1      0         A/5 21171   7.2500   NaN   \n",
       "2            female  38.0      1      0          PC 17599  71.2833   C85   \n",
       "3            female  26.0      0      0  STON/O2. 3101282   7.9250   NaN   \n",
       "4            female  35.0      1      0            113803  53.1000  C123   \n",
       "5              male  35.0      0      0            373450   8.0500   NaN   \n",
       "\n",
       "            Embarked  \n",
       "PassengerId           \n",
       "1                  S  \n",
       "2                  C  \n",
       "3                  S  \n",
       "4                  S  \n",
       "5                  S  "
      ]
     },
     "execution_count": 3,
     "metadata": {},
     "output_type": "execute_result"
    }
   ],
   "source": [
    "from catboost.datasets import titanic\n",
    "\n",
    "# Data Reading\n",
    "df_train, df_test = titanic()\n",
    "df_train.set_index('PassengerId', inplace=True)\n",
    "df_test.set_index('PassengerId', inplace=True)\n",
    "\n",
    "# Split X_train, y_train\n",
    "target = 'Survived'\n",
    "features = df_test.columns\n",
    "\n",
    "y_train = df_train[target]\n",
    "df_train = df_train[features]\n",
    "\n",
    "df_train.head()"
   ]
  },
  {
   "cell_type": "markdown",
   "metadata": {
    "heading_collapsed": true
   },
   "source": [
    "# Preprocessing"
   ]
  },
  {
   "cell_type": "code",
   "execution_count": 4,
   "metadata": {
    "hidden": true
   },
   "outputs": [
    {
     "data": {
      "text/html": [
       "<div>\n",
       "<style scoped>\n",
       "    .dataframe tbody tr th:only-of-type {\n",
       "        vertical-align: middle;\n",
       "    }\n",
       "\n",
       "    .dataframe tbody tr th {\n",
       "        vertical-align: top;\n",
       "    }\n",
       "\n",
       "    .dataframe thead th {\n",
       "        text-align: right;\n",
       "    }\n",
       "</style>\n",
       "<table border=\"1\" class=\"dataframe\">\n",
       "  <thead>\n",
       "    <tr style=\"text-align: right;\">\n",
       "      <th></th>\n",
       "      <th>Age</th>\n",
       "      <th>Fare</th>\n",
       "      <th>SibSp</th>\n",
       "      <th>Parch</th>\n",
       "      <th>Pclass</th>\n",
       "      <th>Sex</th>\n",
       "      <th>Embarked</th>\n",
       "    </tr>\n",
       "    <tr>\n",
       "      <th>PassengerId</th>\n",
       "      <th></th>\n",
       "      <th></th>\n",
       "      <th></th>\n",
       "      <th></th>\n",
       "      <th></th>\n",
       "      <th></th>\n",
       "      <th></th>\n",
       "    </tr>\n",
       "  </thead>\n",
       "  <tbody>\n",
       "    <tr>\n",
       "      <th>1</th>\n",
       "      <td>-0.488867</td>\n",
       "      <td>-0.968076</td>\n",
       "      <td>0.600843</td>\n",
       "      <td>-0.214091</td>\n",
       "      <td>2</td>\n",
       "      <td>1</td>\n",
       "      <td>2</td>\n",
       "    </tr>\n",
       "    <tr>\n",
       "      <th>2</th>\n",
       "      <td>0.584412</td>\n",
       "      <td>0.853865</td>\n",
       "      <td>0.600843</td>\n",
       "      <td>-0.214091</td>\n",
       "      <td>0</td>\n",
       "      <td>0</td>\n",
       "      <td>0</td>\n",
       "    </tr>\n",
       "    <tr>\n",
       "      <th>3</th>\n",
       "      <td>-0.275357</td>\n",
       "      <td>-0.454031</td>\n",
       "      <td>-0.290348</td>\n",
       "      <td>-0.214091</td>\n",
       "      <td>2</td>\n",
       "      <td>0</td>\n",
       "      <td>2</td>\n",
       "    </tr>\n",
       "    <tr>\n",
       "      <th>4</th>\n",
       "      <td>0.470091</td>\n",
       "      <td>0.703973</td>\n",
       "      <td>0.600843</td>\n",
       "      <td>-0.214091</td>\n",
       "      <td>0</td>\n",
       "      <td>0</td>\n",
       "      <td>2</td>\n",
       "    </tr>\n",
       "    <tr>\n",
       "      <th>5</th>\n",
       "      <td>0.470091</td>\n",
       "      <td>-0.379298</td>\n",
       "      <td>-0.290348</td>\n",
       "      <td>-0.214091</td>\n",
       "      <td>2</td>\n",
       "      <td>1</td>\n",
       "      <td>2</td>\n",
       "    </tr>\n",
       "  </tbody>\n",
       "</table>\n",
       "</div>"
      ],
      "text/plain": [
       "                  Age      Fare     SibSp     Parch  Pclass  Sex  Embarked\n",
       "PassengerId                                                               \n",
       "1           -0.488867 -0.968076  0.600843 -0.214091       2    1         2\n",
       "2            0.584412  0.853865  0.600843 -0.214091       0    0         0\n",
       "3           -0.275357 -0.454031 -0.290348 -0.214091       2    0         2\n",
       "4            0.470091  0.703973  0.600843 -0.214091       0    0         2\n",
       "5            0.470091 -0.379298 -0.290348 -0.214091       2    1         2"
      ]
     },
     "execution_count": 4,
     "metadata": {},
     "output_type": "execute_result"
    }
   ],
   "source": [
    "from robusta.preprocessing.category import *\n",
    "from robusta.preprocessing.numeric import *\n",
    "from robusta.preprocessing.base import *\n",
    "from robusta.pipeline import *\n",
    "\n",
    "nums = ['Age', 'Fare', 'SibSp', 'Parch']\n",
    "cats = ['Pclass', 'Sex', 'Embarked']\n",
    "\n",
    "data_prep = FeatureUnion([\n",
    "        (\"numeric\", make_pipeline(\n",
    "            ColumnSelector(nums),\n",
    "            Imputer(strategy=\"median\"),\n",
    "            GaussRank(),\n",
    "            #ColumnRenamer(prefix='gr_'),\n",
    "        )),\n",
    "        (\"category\", make_pipeline(\n",
    "            ColumnSelector(cats),\n",
    "            Imputer(strategy=\"most_frequent\"),\n",
    "            LabelEncoder(),\n",
    "            #ColumnRenamer(prefix='le_'),\n",
    "        )),\n",
    "])\n",
    "\n",
    "X_train = data_prep.fit_transform(df_train)\n",
    "X_test = data_prep.transform(df_test)\n",
    "\n",
    "X_train.head()"
   ]
  },
  {
   "cell_type": "markdown",
   "metadata": {},
   "source": [
    "# Stacking"
   ]
  },
  {
   "cell_type": "code",
   "execution_count": 5,
   "metadata": {},
   "outputs": [],
   "source": [
    "from robusta.model import get_model\n",
    "\n",
    "task = 'classifier'\n",
    "\n",
    "estimators = [\n",
    "    get_model('XGB', task),\n",
    "    get_model('LGBM', task),\n",
    "    get_model('RGF', task),\n",
    "    get_model('LogReg', task),\n",
    "    #get_model('Ridge', task),\n",
    "    get_model('AdaBoost', task, n_estimators=100),\n",
    "    get_model('SVM', task, probability=True),\n",
    "    #get_model('ET', task, n_estimators=100, random_state=0),\n",
    "    #get_model('RF', task, n_estimators=100, random_state=0),\n",
    "]"
   ]
  },
  {
   "cell_type": "markdown",
   "metadata": {},
   "source": [
    "## Functional API (fast)"
   ]
  },
  {
   "cell_type": "code",
   "execution_count": 6,
   "metadata": {
    "scrolled": true
   },
   "outputs": [
    {
     "name": "stdout",
     "output_type": "stream",
     "text": [
      "[19:17:29] XGB\n",
      "[19:17:29] accuracy: 0.8194 ± 0.0224\n",
      "[19:17:29] neg_log_loss: -0.4195 ± 0.0582\n",
      "\n",
      "[19:17:29] LGBM\n",
      "[19:17:29] accuracy: 0.8317 ± 0.0338\n",
      "[19:17:29] neg_log_loss: -0.4751 ± 0.0941\n",
      "\n",
      "[19:17:30] RGF\n",
      "[19:17:30] accuracy: 0.8350 ± 0.0240\n",
      "[19:17:30] neg_log_loss: -0.4156 ± 0.0521\n",
      "\n",
      "[19:17:30] LogReg\n",
      "[19:17:31] accuracy: 0.7924 ± 0.0253\n",
      "[19:17:31] neg_log_loss: -0.4594 ± 0.0255\n",
      "\n",
      "[19:17:31] AdaBoost\n",
      "[19:17:32] accuracy: 0.8070 ± 0.0280\n",
      "[19:17:32] neg_log_loss: -0.6806 ± 0.0025\n",
      "\n",
      "[19:17:32] SVM\n",
      "[19:17:32] accuracy: 0.8227 ± 0.0201\n",
      "[19:17:33] neg_log_loss: -0.4472 ± 0.0315\n",
      "\n",
      "CPU times: user 2.46 s, sys: 548 ms, total: 3.01 s\n",
      "Wall time: 4.14 s\n"
     ]
    }
   ],
   "source": [
    "%%time\n",
    "from sklearn.model_selection import RepeatedStratifiedKFold\n",
    "from robusta.stacking import *\n",
    "\n",
    "cv = 5\n",
    "scoring = ['accuracy', 'neg_log_loss']\n",
    "\n",
    "S_train, S_test = stack(estimators, cv, X_train, y_train, None, X_test, scoring=scoring, \n",
    "                        method='predict_proba', verbose=1)"
   ]
  },
  {
   "cell_type": "code",
   "execution_count": 7,
   "metadata": {},
   "outputs": [
    {
     "data": {
      "text/html": [
       "<div>\n",
       "<style scoped>\n",
       "    .dataframe tbody tr th:only-of-type {\n",
       "        vertical-align: middle;\n",
       "    }\n",
       "\n",
       "    .dataframe tbody tr th {\n",
       "        vertical-align: top;\n",
       "    }\n",
       "\n",
       "    .dataframe thead th {\n",
       "        text-align: right;\n",
       "    }\n",
       "</style>\n",
       "<table border=\"1\" class=\"dataframe\">\n",
       "  <thead>\n",
       "    <tr style=\"text-align: right;\">\n",
       "      <th></th>\n",
       "      <th>XGB</th>\n",
       "      <th>LGBM</th>\n",
       "      <th>RGF</th>\n",
       "      <th>LogReg</th>\n",
       "      <th>AdaBoost</th>\n",
       "      <th>SVM</th>\n",
       "    </tr>\n",
       "    <tr>\n",
       "      <th>PassengerId</th>\n",
       "      <th></th>\n",
       "      <th></th>\n",
       "      <th></th>\n",
       "      <th></th>\n",
       "      <th></th>\n",
       "      <th></th>\n",
       "    </tr>\n",
       "  </thead>\n",
       "  <tbody>\n",
       "    <tr>\n",
       "      <th>1</th>\n",
       "      <td>0.081020</td>\n",
       "      <td>0.089169</td>\n",
       "      <td>0.098254</td>\n",
       "      <td>0.069357</td>\n",
       "      <td>0.491123</td>\n",
       "      <td>0.134343</td>\n",
       "    </tr>\n",
       "    <tr>\n",
       "      <th>2</th>\n",
       "      <td>0.987915</td>\n",
       "      <td>0.995316</td>\n",
       "      <td>0.983956</td>\n",
       "      <td>0.911470</td>\n",
       "      <td>0.509315</td>\n",
       "      <td>0.886563</td>\n",
       "    </tr>\n",
       "    <tr>\n",
       "      <th>3</th>\n",
       "      <td>0.444559</td>\n",
       "      <td>0.303481</td>\n",
       "      <td>0.369598</td>\n",
       "      <td>0.575142</td>\n",
       "      <td>0.503675</td>\n",
       "      <td>0.665692</td>\n",
       "    </tr>\n",
       "    <tr>\n",
       "      <th>4</th>\n",
       "      <td>0.985142</td>\n",
       "      <td>0.998688</td>\n",
       "      <td>0.992868</td>\n",
       "      <td>0.865880</td>\n",
       "      <td>0.510308</td>\n",
       "      <td>0.920625</td>\n",
       "    </tr>\n",
       "    <tr>\n",
       "      <th>5</th>\n",
       "      <td>0.191789</td>\n",
       "      <td>0.053231</td>\n",
       "      <td>0.180799</td>\n",
       "      <td>0.083040</td>\n",
       "      <td>0.496727</td>\n",
       "      <td>0.158923</td>\n",
       "    </tr>\n",
       "    <tr>\n",
       "      <th>6</th>\n",
       "      <td>0.141905</td>\n",
       "      <td>0.172941</td>\n",
       "      <td>0.134258</td>\n",
       "      <td>0.132782</td>\n",
       "      <td>0.492620</td>\n",
       "      <td>0.163086</td>\n",
       "    </tr>\n",
       "    <tr>\n",
       "      <th>7</th>\n",
       "      <td>0.210415</td>\n",
       "      <td>0.216723</td>\n",
       "      <td>0.319318</td>\n",
       "      <td>0.363259</td>\n",
       "      <td>0.498767</td>\n",
       "      <td>0.161350</td>\n",
       "    </tr>\n",
       "    <tr>\n",
       "      <th>8</th>\n",
       "      <td>0.337544</td>\n",
       "      <td>0.434587</td>\n",
       "      <td>0.439988</td>\n",
       "      <td>0.141994</td>\n",
       "      <td>0.487784</td>\n",
       "      <td>0.206172</td>\n",
       "    </tr>\n",
       "    <tr>\n",
       "      <th>9</th>\n",
       "      <td>0.457207</td>\n",
       "      <td>0.317327</td>\n",
       "      <td>0.381881</td>\n",
       "      <td>0.524959</td>\n",
       "      <td>0.498756</td>\n",
       "      <td>0.508756</td>\n",
       "    </tr>\n",
       "    <tr>\n",
       "      <th>10</th>\n",
       "      <td>0.967069</td>\n",
       "      <td>0.987890</td>\n",
       "      <td>0.956744</td>\n",
       "      <td>0.897028</td>\n",
       "      <td>0.508373</td>\n",
       "      <td>0.905002</td>\n",
       "    </tr>\n",
       "  </tbody>\n",
       "</table>\n",
       "</div>"
      ],
      "text/plain": [
       "                  XGB      LGBM       RGF    LogReg  AdaBoost       SVM\n",
       "PassengerId                                                            \n",
       "1            0.081020  0.089169  0.098254  0.069357  0.491123  0.134343\n",
       "2            0.987915  0.995316  0.983956  0.911470  0.509315  0.886563\n",
       "3            0.444559  0.303481  0.369598  0.575142  0.503675  0.665692\n",
       "4            0.985142  0.998688  0.992868  0.865880  0.510308  0.920625\n",
       "5            0.191789  0.053231  0.180799  0.083040  0.496727  0.158923\n",
       "6            0.141905  0.172941  0.134258  0.132782  0.492620  0.163086\n",
       "7            0.210415  0.216723  0.319318  0.363259  0.498767  0.161350\n",
       "8            0.337544  0.434587  0.439988  0.141994  0.487784  0.206172\n",
       "9            0.457207  0.317327  0.381881  0.524959  0.498756  0.508756\n",
       "10           0.967069  0.987890  0.956744  0.897028  0.508373  0.905002"
      ]
     },
     "execution_count": 7,
     "metadata": {},
     "output_type": "execute_result"
    }
   ],
   "source": [
    "S_train.head(10)"
   ]
  },
  {
   "cell_type": "markdown",
   "metadata": {},
   "source": [
    "## Scikit-Learn API"
   ]
  },
  {
   "cell_type": "code",
   "execution_count": 10,
   "metadata": {},
   "outputs": [
    {
     "name": "stdout",
     "output_type": "stream",
     "text": [
      "[19:18:08] iters: 1      score: -0.426004      elapsed: 3 ms\n",
      "[19:18:08] iters: 5      score: -0.426004      elapsed: 118 ms\n",
      "[19:18:08] iters: 10      score: -0.410779      elapsed: 235 ms\n",
      "[19:18:08] iters: 15      score: -0.410779      elapsed: 352 ms\n",
      "[19:18:08] iters: 20      score: -0.409182      elapsed: 466 ms\n",
      "[19:18:08] iters: 25      score: -0.409182      elapsed: 585 ms\n",
      "[19:18:08] iters: 30      score: -0.409103      elapsed: 706 ms\n",
      "[19:18:08] iters: 35      score: -0.408831      elapsed: 825 ms\n",
      "[19:18:09] iters: 40      score: -0.408831      elapsed: 938 ms\n",
      "[19:18:09] iters: 45      score: -0.408771      elapsed: 1 sec\n",
      "[19:18:09] iters: 50      score: -0.408755      elapsed: 1 sec\n",
      "[19:18:09] iters: 55      score: -0.408755      elapsed: 1 sec\n",
      "[19:18:09] iters: 60      score: -0.408686      elapsed: 1 sec\n",
      "[19:18:09] iters: 65      score: -0.408686      elapsed: 1 sec\n",
      "[19:18:09] iters: 70      score: -0.408649      elapsed: 1 sec\n",
      "[19:18:09] iters: 75      score: -0.408644      elapsed: 1 sec\n",
      "[19:18:09] iters: 80      score: -0.408644      elapsed: 1 sec\n",
      "[19:18:10] iters: 85      score: -0.408635      elapsed: 1 sec\n",
      "[19:18:10] iters: 90      score: -0.408622      elapsed: 2 sec\n",
      "[19:18:10] iters: 95      score: -0.408622      elapsed: 2 sec\n",
      "[19:18:10] iters: 100      score: -0.408595      elapsed: 2 sec\n",
      "[19:18:10] iters: 105      score: -0.408595      elapsed: 2 sec\n",
      "[19:18:10] iters: 110      score: -0.408561      elapsed: 2 sec\n",
      "[19:18:10] iters: 115      score: -0.408558      elapsed: 2 sec\n",
      "[19:18:10] iters: 120      score: -0.408558      elapsed: 2 sec\n",
      "[19:18:11] iters: 121      score: -0.408558      elapsed: 2 sec\n",
      "\n",
      "accuracy: 0.8451178451178452\n",
      "neg_log_loss: -0.4085582681117222\n"
     ]
    }
   ],
   "source": [
    "from sklearn.metrics import get_scorer\n",
    "from sklearn.metrics import log_loss\n",
    "\n",
    "blend = get_model('Blend', task, mean='mean', scoring='neg_log_loss', print_progress=5)\n",
    "blend.fit(S_train, y_train)\n",
    "\n",
    "print()\n",
    "for scoring in ['accuracy', 'neg_log_loss']:\n",
    "    scorer = get_scorer(scoring)\n",
    "    print('{}: {}'.format(scoring, scorer(blend, S_train, y_train)))"
   ]
  },
  {
   "cell_type": "code",
   "execution_count": null,
   "metadata": {},
   "outputs": [],
   "source": [
    "%%time\n",
    "est_names = list(S_train.columns)\n",
    "named_estimators = list(zip(est_names, estimators))\n",
    "\n",
    "st1 = Stacker(named_estimators, cv, method='predict')\n",
    "\n",
    "S1_train = st1.fit(X_train, y_train).transform(X_train)\n",
    "S1_test = st1.transform(X_test)"
   ]
  },
  {
   "cell_type": "markdown",
   "metadata": {},
   "source": [
    "## Scikit-Learn API (faster with fit_transform)"
   ]
  },
  {
   "cell_type": "code",
   "execution_count": null,
   "metadata": {
    "scrolled": true
   },
   "outputs": [],
   "source": [
    "%%time\n",
    "st2 = Stacker(named_estimators, cv, method='predict')\n",
    "\n",
    "S2_train = st2.fit_transform(X_train, y_train)\n",
    "S2_test = st2.transform(X_test)"
   ]
  },
  {
   "cell_type": "raw",
   "metadata": {},
   "source": [
    "Check if each stacker returns the same results"
   ]
  },
  {
   "cell_type": "code",
   "execution_count": null,
   "metadata": {},
   "outputs": [],
   "source": [
    "S_train.equals(S1_train), S_train.equals(S2_train)"
   ]
  },
  {
   "cell_type": "code",
   "execution_count": null,
   "metadata": {},
   "outputs": [],
   "source": [
    "S_test.equals(S1_test), S_test.equals(S2_test)"
   ]
  },
  {
   "cell_type": "markdown",
   "metadata": {},
   "source": [
    "## Stacking Strategies"
   ]
  },
  {
   "cell_type": "markdown",
   "metadata": {},
   "source": [
    "### Probability"
   ]
  },
  {
   "cell_type": "code",
   "execution_count": null,
   "metadata": {},
   "outputs": [],
   "source": [
    "estimators = [xgb, lgb, rgf, lr, rf, et, ada]\n",
    "\n",
    "S_train, S_test = stack(estimators, cv, X_train, y_train, None, X_test, method='predict_proba')\n",
    "\n",
    "S_train.head()"
   ]
  },
  {
   "cell_type": "markdown",
   "metadata": {},
   "source": [
    "### Test Averaging"
   ]
  },
  {
   "cell_type": "code",
   "execution_count": null,
   "metadata": {},
   "outputs": [],
   "source": [
    "%%time\n",
    "S_train, S_test = stack(estimators, cv, X_train, y_train, None, X_test, \n",
    "                        method='predict_proba', test_avg=True)"
   ]
  },
  {
   "cell_type": "code",
   "execution_count": null,
   "metadata": {},
   "outputs": [],
   "source": [
    "S_test.head()"
   ]
  },
  {
   "cell_type": "code",
   "execution_count": null,
   "metadata": {},
   "outputs": [],
   "source": [
    "%%time\n",
    "S_train, S_test = stack(estimators, cv, X_train, y_train, None, X_test, \n",
    "                        method='predict_proba', test_avg=False)"
   ]
  },
  {
   "cell_type": "code",
   "execution_count": null,
   "metadata": {},
   "outputs": [],
   "source": [
    "S_test.head()"
   ]
  },
  {
   "cell_type": "markdown",
   "metadata": {},
   "source": [
    "### Voting Strategies"
   ]
  },
  {
   "cell_type": "code",
   "execution_count": null,
   "metadata": {},
   "outputs": [],
   "source": [
    "S_train, S_test = stack(estimators, cv, X_train, y_train, None, X_test, \n",
    "                        method='predict', voting='soft')\n",
    "\n",
    "S_test.head()"
   ]
  },
  {
   "cell_type": "code",
   "execution_count": null,
   "metadata": {},
   "outputs": [],
   "source": [
    "S_train, S_test = stack(estimators, cv, X_train, y_train, None, X_test, \n",
    "                        method='predict', voting='hard')\n",
    "\n",
    "S_test.head()"
   ]
  },
  {
   "cell_type": "markdown",
   "metadata": {},
   "source": [
    "### Join Original Features"
   ]
  },
  {
   "cell_type": "code",
   "execution_count": null,
   "metadata": {},
   "outputs": [],
   "source": [
    "S_train, S_test = stack(estimators, cv, X_train, y_train, None, X_test, \n",
    "                        method='predict_proba', join_X=True)\n",
    "\n",
    "S_train.head()"
   ]
  },
  {
   "cell_type": "markdown",
   "metadata": {},
   "source": [
    "# 2nd Level Model"
   ]
  },
  {
   "cell_type": "code",
   "execution_count": null,
   "metadata": {},
   "outputs": [],
   "source": [
    "%%time\n",
    "from robusta.crossval import cross_val_pred, cross_val_score\n",
    "\n",
    "cv = RepeatedStratifiedKFold(5, 3, random_state=0)\n",
    "scoring = 'accuracy'\n",
    "\n",
    "# 1st level models\n",
    "l1_estimators = [xgb, lgb, rgf, lr, rf, et, ada]\n",
    "cv_stack = RepeatedStratifiedKFold(5, 1, random_state=666)\n",
    "\n",
    "S_train, S_test = stack(l1_estimators, cv_stack, X_train, y_train, None, X_test,\n",
    "                        method='predict')\n",
    "\n",
    "# 2nd level model\n",
    "l2_estimator = ridge\n",
    "\n",
    "scores = cross_val_score(estimator, S_train, y_train, scoring=scoring, cv=cv)\n",
    "print('{:.4f} ± {:.4f}'.format(np.mean(scores), np.std(scores)))"
   ]
  },
  {
   "cell_type": "code",
   "execution_count": null,
   "metadata": {},
   "outputs": [],
   "source": [
    "%%time\n",
    "y_oof, y_sub = cross_val_pred(l2_estimator, cv, S_train, y_train, None, S_test, method='predict')"
   ]
  },
  {
   "cell_type": "markdown",
   "metadata": {},
   "source": [
    "# Submit"
   ]
  },
  {
   "cell_type": "code",
   "execution_count": null,
   "metadata": {},
   "outputs": [],
   "source": [
    "import os\n",
    "\n",
    "path = os.path.join(os.getcwd(), 'pred')\n",
    "if not os.path.exists(path):\n",
    "    os.mkdir(path)\n",
    "\n",
    "sub_path = os.path.join(path, '1 sub stacking.csv')\n",
    "oof_path = os.path.join(path, '1 oof stacking.csv')\n",
    "\n",
    "y_sub.to_csv(sub_path, header=True)\n",
    "y_oof.to_csv(oof_path, header=True)"
   ]
  },
  {
   "cell_type": "markdown",
   "metadata": {},
   "source": [
    "### Score:\n",
    "### `[CV] 0.8324 ± 0.0220`\n",
    "### `[LB] 0.7799 ↑`"
   ]
  }
 ],
 "metadata": {
  "kernelspec": {
   "display_name": "Python 3",
   "language": "python",
   "name": "python3"
  },
  "language_info": {
   "codemirror_mode": {
    "name": "ipython",
    "version": 3
   },
   "file_extension": ".py",
   "mimetype": "text/x-python",
   "name": "python",
   "nbconvert_exporter": "python",
   "pygments_lexer": "ipython3",
   "version": "3.6.8"
  },
  "toc": {
   "colors": {
    "hover_highlight": "#DAA520",
    "navigate_num": "#000000",
    "navigate_text": "#333333",
    "running_highlight": "#FF0000",
    "selected_highlight": "#FFD700",
    "sidebar_border": "#EEEEEE",
    "wrapper_background": "#FFFFFF"
   },
   "moveMenuLeft": false,
   "nav_menu": {
    "height": "32px",
    "width": "250px"
   },
   "navigate_menu": true,
   "number_sections": true,
   "sideBar": true,
   "threshold": 4,
   "toc_cell": true,
   "toc_section_display": "block",
   "toc_window_display": true,
   "widenNotebook": false
  }
 },
 "nbformat": 4,
 "nbformat_minor": 2
}
