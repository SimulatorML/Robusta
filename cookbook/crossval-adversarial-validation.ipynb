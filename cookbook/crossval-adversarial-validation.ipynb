{
 "cells": [
  {
   "cell_type": "markdown",
   "metadata": {},
   "source": [
    "# Import"
   ]
  },
  {
   "cell_type": "code",
   "execution_count": 1,
   "metadata": {},
   "outputs": [
    {
     "name": "stderr",
     "output_type": "stream",
     "text": [
      "Using TensorFlow backend.\n"
     ]
    }
   ],
   "source": [
    "# Basic\n",
    "import pandas as pd\n",
    "import numpy as np\n",
    "import warnings\n",
    "\n",
    "warnings.simplefilter('ignore')\n",
    "\n",
    "# ML Toolkit\n",
    "from robusta.crossval import *\n",
    "from robusta.pipeline import *\n",
    "from robusta.preprocessing import *\n",
    "from sklearn.preprocessing import LabelBinarizer, StandardScaler\n",
    "from sklearn.model_selection import StratifiedShuffleSplit\n",
    "from sklearn.metrics import roc_auc_score\n",
    "\n",
    "# Data\n",
    "from catboost.datasets import adult\n",
    "\n",
    "# Model\n",
    "from lightgbm import LGBMClassifier"
   ]
  },
  {
   "cell_type": "markdown",
   "metadata": {},
   "source": [
    "# Data"
   ]
  },
  {
   "cell_type": "code",
   "execution_count": 2,
   "metadata": {},
   "outputs": [],
   "source": [
    "TARGET = 'income'\n",
    "\n",
    "train, test = adult()\n",
    "\n",
    "# Target\n",
    "labels_train = train['income']\n",
    "labels_test = test['income']\n",
    "\n",
    "train.drop(columns='income', inplace=True)\n",
    "test.drop(columns='income', inplace=True)\n",
    "\n",
    "# Target Binarization\n",
    "y_train = labels_train.astype('category').cat.codes\n",
    "y_test  = labels_test.astype('category').cat.codes\n",
    "\n",
    "del labels_train, labels_test"
   ]
  },
  {
   "cell_type": "code",
   "execution_count": 3,
   "metadata": {},
   "outputs": [
    {
     "data": {
      "text/html": [
       "<div>\n",
       "<style scoped>\n",
       "    .dataframe tbody tr th:only-of-type {\n",
       "        vertical-align: middle;\n",
       "    }\n",
       "\n",
       "    .dataframe tbody tr th {\n",
       "        vertical-align: top;\n",
       "    }\n",
       "\n",
       "    .dataframe thead th {\n",
       "        text-align: right;\n",
       "    }\n",
       "</style>\n",
       "<table border=\"1\" class=\"dataframe\">\n",
       "  <thead>\n",
       "    <tr style=\"text-align: right;\">\n",
       "      <th></th>\n",
       "      <th>age</th>\n",
       "      <th>workclass</th>\n",
       "      <th>fnlwgt</th>\n",
       "      <th>education</th>\n",
       "      <th>education-num</th>\n",
       "      <th>marital-status</th>\n",
       "      <th>occupation</th>\n",
       "      <th>relationship</th>\n",
       "      <th>race</th>\n",
       "      <th>sex</th>\n",
       "      <th>capital-gain</th>\n",
       "      <th>capital-loss</th>\n",
       "      <th>hours-per-week</th>\n",
       "      <th>native-country</th>\n",
       "    </tr>\n",
       "  </thead>\n",
       "  <tbody>\n",
       "    <tr>\n",
       "      <td>0</td>\n",
       "      <td>25.0</td>\n",
       "      <td>Private</td>\n",
       "      <td>226802.0</td>\n",
       "      <td>11th</td>\n",
       "      <td>7.0</td>\n",
       "      <td>Never-married</td>\n",
       "      <td>Machine-op-inspct</td>\n",
       "      <td>Own-child</td>\n",
       "      <td>Black</td>\n",
       "      <td>Male</td>\n",
       "      <td>0.0</td>\n",
       "      <td>0.0</td>\n",
       "      <td>40.0</td>\n",
       "      <td>United-States</td>\n",
       "    </tr>\n",
       "    <tr>\n",
       "      <td>1</td>\n",
       "      <td>38.0</td>\n",
       "      <td>Private</td>\n",
       "      <td>89814.0</td>\n",
       "      <td>HS-grad</td>\n",
       "      <td>9.0</td>\n",
       "      <td>Married-civ-spouse</td>\n",
       "      <td>Farming-fishing</td>\n",
       "      <td>Husband</td>\n",
       "      <td>White</td>\n",
       "      <td>Male</td>\n",
       "      <td>0.0</td>\n",
       "      <td>0.0</td>\n",
       "      <td>50.0</td>\n",
       "      <td>United-States</td>\n",
       "    </tr>\n",
       "    <tr>\n",
       "      <td>2</td>\n",
       "      <td>28.0</td>\n",
       "      <td>Local-gov</td>\n",
       "      <td>336951.0</td>\n",
       "      <td>Assoc-acdm</td>\n",
       "      <td>12.0</td>\n",
       "      <td>Married-civ-spouse</td>\n",
       "      <td>Protective-serv</td>\n",
       "      <td>Husband</td>\n",
       "      <td>White</td>\n",
       "      <td>Male</td>\n",
       "      <td>0.0</td>\n",
       "      <td>0.0</td>\n",
       "      <td>40.0</td>\n",
       "      <td>United-States</td>\n",
       "    </tr>\n",
       "    <tr>\n",
       "      <td>3</td>\n",
       "      <td>44.0</td>\n",
       "      <td>Private</td>\n",
       "      <td>160323.0</td>\n",
       "      <td>Some-college</td>\n",
       "      <td>10.0</td>\n",
       "      <td>Married-civ-spouse</td>\n",
       "      <td>Machine-op-inspct</td>\n",
       "      <td>Husband</td>\n",
       "      <td>Black</td>\n",
       "      <td>Male</td>\n",
       "      <td>7688.0</td>\n",
       "      <td>0.0</td>\n",
       "      <td>40.0</td>\n",
       "      <td>United-States</td>\n",
       "    </tr>\n",
       "    <tr>\n",
       "      <td>4</td>\n",
       "      <td>18.0</td>\n",
       "      <td>NaN</td>\n",
       "      <td>103497.0</td>\n",
       "      <td>Some-college</td>\n",
       "      <td>10.0</td>\n",
       "      <td>Never-married</td>\n",
       "      <td>NaN</td>\n",
       "      <td>Own-child</td>\n",
       "      <td>White</td>\n",
       "      <td>Female</td>\n",
       "      <td>0.0</td>\n",
       "      <td>0.0</td>\n",
       "      <td>30.0</td>\n",
       "      <td>United-States</td>\n",
       "    </tr>\n",
       "  </tbody>\n",
       "</table>\n",
       "</div>"
      ],
      "text/plain": [
       "    age  workclass    fnlwgt     education  education-num      marital-status  \\\n",
       "0  25.0    Private  226802.0          11th            7.0       Never-married   \n",
       "1  38.0    Private   89814.0       HS-grad            9.0  Married-civ-spouse   \n",
       "2  28.0  Local-gov  336951.0    Assoc-acdm           12.0  Married-civ-spouse   \n",
       "3  44.0    Private  160323.0  Some-college           10.0  Married-civ-spouse   \n",
       "4  18.0        NaN  103497.0  Some-college           10.0       Never-married   \n",
       "\n",
       "          occupation relationship   race     sex  capital-gain  capital-loss  \\\n",
       "0  Machine-op-inspct    Own-child  Black    Male           0.0           0.0   \n",
       "1    Farming-fishing      Husband  White    Male           0.0           0.0   \n",
       "2    Protective-serv      Husband  White    Male           0.0           0.0   \n",
       "3  Machine-op-inspct      Husband  Black    Male        7688.0           0.0   \n",
       "4                NaN    Own-child  White  Female           0.0           0.0   \n",
       "\n",
       "   hours-per-week native-country  \n",
       "0            40.0  United-States  \n",
       "1            50.0  United-States  \n",
       "2            40.0  United-States  \n",
       "3            40.0  United-States  \n",
       "4            30.0  United-States  "
      ]
     },
     "execution_count": 3,
     "metadata": {},
     "output_type": "execute_result"
    }
   ],
   "source": [
    "test.head()"
   ]
  },
  {
   "cell_type": "markdown",
   "metadata": {},
   "source": [
    "# Preprocessing"
   ]
  },
  {
   "cell_type": "code",
   "execution_count": 4,
   "metadata": {},
   "outputs": [],
   "source": [
    "prep_pipe = FeatureUnion([\n",
    "    (\"category\", make_pipeline(\n",
    "        TypeSelector(\"object\"),\n",
    "        Categorizer(),\n",
    "    )),\n",
    "    (\"numeric\", make_pipeline(\n",
    "        TypeSelector(np.number),\n",
    "    )),\n",
    "])\n",
    "\n",
    "X_train = prep_pipe.fit_transform(train)\n",
    "X_test = prep_pipe.transform(test)"
   ]
  },
  {
   "cell_type": "markdown",
   "metadata": {},
   "source": [
    "# CV schemes"
   ]
  },
  {
   "cell_type": "markdown",
   "metadata": {},
   "source": [
    "## Simple Holdout"
   ]
  },
  {
   "cell_type": "code",
   "execution_count": 5,
   "metadata": {},
   "outputs": [
    {
     "name": "stdout",
     "output_type": "stream",
     "text": [
      "[20:23:34]  LGBMClassifier\n",
      "\n",
      "[20:23:35]  FOLD  0:   0.9265\n",
      "\n",
      "[20:23:35]  AVERAGE:   \u001b[33m0.9265\u001b[0m ± 0.0000\n",
      "\n"
     ]
    },
    {
     "data": {
      "text/plain": [
       "0.9266619076504115"
      ]
     },
     "execution_count": 5,
     "metadata": {},
     "output_type": "execute_result"
    }
   ],
   "source": [
    "cv = StratifiedShuffleSplit(n_splits=1, test_size=0.2)\n",
    "model = LGBMClassifier()\n",
    "scoring = 'roc_auc'\n",
    "\n",
    "_, y_pred = crossval_predict(model, cv, X_train, y_train, X_new=X_test,\n",
    "                             scoring=scoring, method='predict_proba',\n",
    "                             verbose=2, n_jobs=None)\n",
    "\n",
    "roc_auc_score(y_test, y_pred)"
   ]
  },
  {
   "cell_type": "markdown",
   "metadata": {},
   "source": [
    "## Adversarial Validation"
   ]
  },
  {
   "cell_type": "code",
   "execution_count": 9,
   "metadata": {},
   "outputs": [
    {
     "name": "stdout",
     "output_type": "stream",
     "text": [
      "[20:24:05]  LGBMClassifier\n",
      "\n",
      "[20:24:05]  FOLD  0:   0.9328\n",
      "\n",
      "[20:24:06]  AVERAGE:   \u001b[33m0.9328\u001b[0m ± 0.0000\n",
      "\n"
     ]
    },
    {
     "data": {
      "text/plain": [
       "0.9260441555579393"
      ]
     },
     "execution_count": 9,
     "metadata": {},
     "output_type": "execute_result"
    }
   ],
   "source": [
    "cv = make_adversarial_validation(model, X_train, X_test, test_size=0.2)\n",
    "model = LGBMClassifier()\n",
    "scoring = 'roc_auc'\n",
    "\n",
    "_, y_pred = crossval_predict(model, cv, X_train, y_train, X_new=X_test,\n",
    "                             scoring=scoring, method='predict_proba',\n",
    "                             verbose=2, n_jobs=None)\n",
    "\n",
    "roc_auc_score(y_test, y_pred)"
   ]
  },
  {
   "cell_type": "code",
   "execution_count": 11,
   "metadata": {
    "scrolled": true
   },
   "outputs": [
    {
     "name": "stdout",
     "output_type": "stream",
     "text": [
      "Help on AdversarialValidation in module robusta.crossval.schemes object:\n",
      "\n",
      "class AdversarialValidation(builtins.object)\n",
      " |  Adversarial Validation\n",
      " |  \n",
      " |  Holdout split by the train/test similarity. Inner ``classifier`` must be\n",
      " |  already fitted to the concatenated dataset with binary target, where 1 means\n",
      " |  test set and 0 – train set. Provides list with single train/oof indices,\n",
      " |  where oof – subset of size ``test_size`` with maximum class 1 probability.\n",
      " |  \n",
      " |  Parameters\n",
      " |  ----------\n",
      " |  classifier : estimator object\n",
      " |      Fitted estimator for train/test similarity measurement.\n",
      " |      Class 1 for test set and 0 for train.\n",
      " |  \n",
      " |  train_size : float, int, or None (default=None)\n",
      " |      If float, should be between 0.0 and 1.0 and represent the\n",
      " |      proportion of the dataset to include in the train split. If\n",
      " |      int, represents the absolute number of train samples. If None,\n",
      " |      the value is automatically set to the complement of the test size.\n",
      " |  \n",
      " |  test_size : float, int, None (default=None)\n",
      " |      If float, should be between 0.0 and 1.0 and represent the proportion\n",
      " |      of the dataset to include in the test split. If int, represents the\n",
      " |      absolute number of test samples. If None, the value is set to the\n",
      " |      complement of the train size. If ``train_size`` is also None, it will\n",
      " |      be set to 0.2.\n",
      " |  \n",
      " |  Methods defined here:\n",
      " |  \n",
      " |  __init__(self, classifier, train_size=None, test_size=None)\n",
      " |      Initialize self.  See help(type(self)) for accurate signature.\n",
      " |  \n",
      " |  get_n_splits(self)\n",
      " |  \n",
      " |  split(self, X, y, groups=None)\n",
      " |  \n",
      " |  ----------------------------------------------------------------------\n",
      " |  Data descriptors defined here:\n",
      " |  \n",
      " |  __dict__\n",
      " |      dictionary for instance variables (if defined)\n",
      " |  \n",
      " |  __weakref__\n",
      " |      list of weak references to the object (if defined)\n",
      "\n"
     ]
    }
   ],
   "source": [
    "help(cv)"
   ]
  },
  {
   "cell_type": "markdown",
   "metadata": {},
   "source": [
    "## KFold(5)"
   ]
  },
  {
   "cell_type": "code",
   "execution_count": 7,
   "metadata": {},
   "outputs": [
    {
     "name": "stdout",
     "output_type": "stream",
     "text": [
      "[20:23:36]  LGBMClassifier\n",
      "\n",
      "[20:23:37]  FOLD  0:   0.9258\n",
      "[20:23:37]  FOLD  1:   0.9245\n",
      "[20:23:37]  FOLD  2:   0.9299\n",
      "[20:23:38]  FOLD  3:   0.9295\n",
      "[20:23:38]  FOLD  4:   0.9307\n",
      "\n",
      "[20:23:39]  AVERAGE:   \u001b[33m0.9281\u001b[0m ± 0.0024\n",
      "\n"
     ]
    },
    {
     "data": {
      "text/plain": [
       "0.9280748399216228"
      ]
     },
     "execution_count": 7,
     "metadata": {},
     "output_type": "execute_result"
    }
   ],
   "source": [
    "cv = 5\n",
    "model = LGBMClassifier()\n",
    "scoring = 'roc_auc'\n",
    "\n",
    "_, y_pred = crossval_predict(model, cv, X_train, y_train, X_new=X_test,\n",
    "                             scoring=scoring, method='predict_proba',\n",
    "                             verbose=2, n_jobs=None)\n",
    "\n",
    "roc_auc_score(y_test, y_pred)"
   ]
  }
 ],
 "metadata": {
  "kernelspec": {
   "display_name": "Python 3",
   "language": "python",
   "name": "python3"
  },
  "language_info": {
   "codemirror_mode": {
    "name": "ipython",
    "version": 3
   },
   "file_extension": ".py",
   "mimetype": "text/x-python",
   "name": "python",
   "nbconvert_exporter": "python",
   "pygments_lexer": "ipython3",
   "version": "3.6.8"
  }
 },
 "nbformat": 4,
 "nbformat_minor": 2
}
